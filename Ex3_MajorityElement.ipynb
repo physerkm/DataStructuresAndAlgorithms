{
  "nbformat": 4,
  "nbformat_minor": 0,
  "metadata": {
    "colab": {
      "provenance": []
    },
    "kernelspec": {
      "name": "python3",
      "display_name": "Python 3"
    },
    "language_info": {
      "name": "python"
    }
  },
  "cells": [
    {
      "cell_type": "markdown",
      "source": [
        "Given an array nums of size n, return the majority element.\n",
        "\n",
        "The majority element is the element that appears more than ⌊n / 2⌋ times. You may assume that the majority element always exists in the array. \n",
        "\n",
        "**Example 1:**\n",
        "```\n",
        "Input: nums = [3,2,3]\n",
        "Output: 3\n",
        "```\n",
        "\n",
        "**Example 2:**\n",
        "```\n",
        "Input: nums = [2,2,1,1,1,2,2]\n",
        "Output: 2\n",
        "``` \n",
        "\n",
        "**Constraints:**\n",
        "\n",
        "*  $n == nums.length$\n",
        "*  $1 <= n <= 5 * 10^{4}$\n",
        "*  $-10^{9} <= nums[i] <= 10^{9}$\n",
        "\n",
        " \n",
        "**Follow-up:** Could you solve the problem in linear time and in `O(1)` space?"
      ],
      "metadata": {
        "id": "5jbTsFlIf53e"
      }
    },
    {
      "cell_type": "code",
      "source": [
        "myList = [2, 2, 1, 1, 1, 2, 2]"
      ],
      "metadata": {
        "id": "slEm9isWjp3A"
      },
      "execution_count": 1,
      "outputs": []
    },
    {
      "cell_type": "code",
      "source": [
        "def findMajority():\n",
        "  numbers = {}\n",
        "  result = 0\n",
        "  maxNumber = 0\n",
        "\n",
        "  for num in myList:\n",
        "    numbers[num] = 1 + numbers.get(num, 0)\n",
        "    if numbers[num] > maxNumber:\n",
        "      result = num\n",
        "    maxNumber = max(maxNumber, numbers[num])\n",
        "  return result"
      ],
      "metadata": {
        "id": "DmUlkhZ1gtSy"
      },
      "execution_count": 2,
      "outputs": []
    },
    {
      "cell_type": "code",
      "source": [
        "findMajority()"
      ],
      "metadata": {
        "colab": {
          "base_uri": "https://localhost:8080/"
        },
        "id": "0WS73V_Nj4C8",
        "outputId": "dea903a6-9af9-46b9-87b2-8c0fe0d9fbd2"
      },
      "execution_count": 3,
      "outputs": [
        {
          "output_type": "execute_result",
          "data": {
            "text/plain": [
              "2"
            ]
          },
          "metadata": {},
          "execution_count": 3
        }
      ]
    },
    {
      "cell_type": "code",
      "source": [
        "def boyerMoore():\n",
        "  result = 0\n",
        "  count = 0\n",
        "\n",
        "  for num in myList:\n",
        "    if count == 0:\n",
        "      result = num\n",
        "    if num == result:\n",
        "      count += 1\n",
        "    else:\n",
        "      count -= 1\n",
        "  return result"
      ],
      "metadata": {
        "id": "RROF-R465fyj"
      },
      "execution_count": 4,
      "outputs": []
    },
    {
      "cell_type": "code",
      "source": [
        "def boyerMoore2():\n",
        "  result = 0\n",
        "  count = 0\n",
        "\n",
        "  for num in myList:\n",
        "    if count == 0:\n",
        "      result = num\n",
        "    count += 1 if num == result else -1\n",
        "  return result"
      ],
      "metadata": {
        "id": "oz6T3e6w6hvR"
      },
      "execution_count": 5,
      "outputs": []
    },
    {
      "cell_type": "code",
      "source": [
        "boyerMoore()"
      ],
      "metadata": {
        "colab": {
          "base_uri": "https://localhost:8080/"
        },
        "id": "avgZMLhO7AJl",
        "outputId": "6c93244d-a3d5-464b-f61e-111e84c97485"
      },
      "execution_count": 6,
      "outputs": [
        {
          "output_type": "execute_result",
          "data": {
            "text/plain": [
              "2"
            ]
          },
          "metadata": {},
          "execution_count": 6
        }
      ]
    },
    {
      "cell_type": "code",
      "source": [
        "boyerMoore()"
      ],
      "metadata": {
        "colab": {
          "base_uri": "https://localhost:8080/"
        },
        "id": "r7DkVLEj7a9r",
        "outputId": "440988bc-6201-4c29-c183-2d83a70fca05"
      },
      "execution_count": 7,
      "outputs": [
        {
          "output_type": "execute_result",
          "data": {
            "text/plain": [
              "2"
            ]
          },
          "metadata": {},
          "execution_count": 7
        }
      ]
    }
  ]
}