{
  "nbformat": 4,
  "nbformat_minor": 0,
  "metadata": {
    "colab": {
      "provenance": []
    },
    "kernelspec": {
      "name": "python3",
      "display_name": "Python 3"
    },
    "language_info": {
      "name": "python"
    }
  },
  "cells": [
    {
      "cell_type": "markdown",
      "source": [
        "The **Fibonacci numbers**, commonly denoted `F(n)` form a sequence, called the **Fibonacci sequence**, such that each number is the sum of the two preceding ones, starting from `0` and `1`. That is,\n",
        "\n",
        "```\n",
        "F(0) = 0, F(1) = 1\n",
        "F(n) = F(n - 1) + F(n - 2), for n > 1.\n",
        "```\n",
        "\n",
        "Given `n`, calculate `F(n)`. \n",
        "\n",
        "**Example 1:**\n",
        "\n",
        "Input: `n = 2`\n",
        "\n",
        "Output: `1`\n",
        "\n",
        "Explanation: `F(2) = F(1) + F(0) = 1 + 0 = 1.`\n",
        "\n",
        "**Example 2:**\n",
        "\n",
        "Input: `n = 3`\n",
        "\n",
        "Output: `2`\n",
        "\n",
        "Explanation: `F(3) = F(2) + F(1) = 1 + 1 = 2.`\n",
        "\n",
        "**Example 3:**\n",
        "\n",
        "Input: `n = 4`\n",
        "\n",
        "Output: `3`\n",
        "\n",
        "Explanation: `F(4) = F(3) + F(2) = 2 + 1 = 3.`\n",
        "\n",
        " \n",
        "\n",
        "**Constraints:**\n",
        "\n",
        "*   `0 <= n <= 30`\n",
        "\n"
      ],
      "metadata": {
        "id": "9Wajx9wGCQJy"
      }
    },
    {
      "cell_type": "code",
      "source": [
        "# Recursive\n",
        "\n",
        "class Solution:\n",
        "  def recursiveFibonacci(self, n: int) -> int:\n",
        "    if n == 0 or n == 1:\n",
        "      return n\n",
        "    else:\n",
        "      return self.recursiveFibonacci(n-1) + self.recursiveFibonacci(n-2)"
      ],
      "metadata": {
        "id": "TCcD1T1wEYY7"
      },
      "execution_count": 1,
      "outputs": []
    },
    {
      "cell_type": "code",
      "source": [
        "s = Solution()\n",
        "s.recursiveFibonacci(10)"
      ],
      "metadata": {
        "colab": {
          "base_uri": "https://localhost:8080/"
        },
        "id": "jHeH3iD0O8mb",
        "outputId": "7c6f09c4-9812-405f-b041-1c4a708caafd"
      },
      "execution_count": 2,
      "outputs": [
        {
          "output_type": "execute_result",
          "data": {
            "text/plain": [
              "55"
            ]
          },
          "metadata": {},
          "execution_count": 2
        }
      ]
    },
    {
      "cell_type": "code",
      "source": [
        "# Iterative\n",
        "\n",
        "class Solution:\n",
        "  def iterativeFibonacci(self, n: int) -> int:\n",
        "    x, y = 0, 1\n",
        "    for i in range(n):\n",
        "      x, y = y, x+y\n",
        "    return x"
      ],
      "metadata": {
        "id": "iq_8fuSeGG8l"
      },
      "execution_count": 3,
      "outputs": []
    },
    {
      "cell_type": "code",
      "source": [
        "s = Solution()\n",
        "s.iterativeFibonacci(10)"
      ],
      "metadata": {
        "colab": {
          "base_uri": "https://localhost:8080/"
        },
        "id": "TUgePRatPYmw",
        "outputId": "f555fc55-45b2-403f-b0fd-40d4e7f52361"
      },
      "execution_count": 4,
      "outputs": [
        {
          "output_type": "execute_result",
          "data": {
            "text/plain": [
              "55"
            ]
          },
          "metadata": {},
          "execution_count": 4
        }
      ]
    },
    {
      "cell_type": "code",
      "source": [
        "# Memoization\n",
        "\n",
        "myList = [5, 10, 15, 5, 20, 15, 5, 10, 5, 100, 10, 20, 15, 100, 5, 10]"
      ],
      "metadata": {
        "id": "UtRD2tgTG5Is"
      },
      "execution_count": 5,
      "outputs": []
    },
    {
      "cell_type": "code",
      "source": [
        "%%timeit -r 1000 -n 1000\n",
        "\n",
        "class Solution:\n",
        "  def iterativeFibonacci(self, n: int) -> int:\n",
        "    x, y = 0, 1\n",
        "    for i in range(n):\n",
        "      x, y = y, x+y\n",
        "    return x\n",
        "\n",
        "    for num in myList:\n",
        "      iterativeFibonacci(num)"
      ],
      "metadata": {
        "colab": {
          "base_uri": "https://localhost:8080/"
        },
        "id": "1xQTf13pQZnz",
        "outputId": "caa193a7-6f09-49de-c8e9-22afcca5e68a"
      },
      "execution_count": 6,
      "outputs": [
        {
          "output_type": "stream",
          "name": "stdout",
          "text": [
            "5.87 µs ± 1.33 µs per loop (mean ± std. dev. of 1000 runs, 1000 loops each)\n"
          ]
        }
      ]
    },
    {
      "cell_type": "code",
      "source": [
        "%%timeit -r 1000 -n 1000\n",
        "\n",
        "def fib(n: int) -> int:\n",
        "\n",
        "  x, y = 0, 1\n",
        "\n",
        "  for i in range(n):\n",
        "    x, y = y, x + y\n",
        "  \n",
        "  return x\n",
        "\n",
        "memo = {}\n",
        "\n",
        "def memoizationSolution(n):\n",
        "  if n not in memo:\n",
        "    memo[n] = fib(n)\n",
        "  return memo[n]\n",
        "\n",
        "for num in myList:\n",
        "  memoizationSolution(num)"
      ],
      "metadata": {
        "colab": {
          "base_uri": "https://localhost:8080/"
        },
        "id": "mHmhFTBIM4KH",
        "outputId": "2fe676e8-6780-4099-cc72-35d3dc52b58c"
      },
      "execution_count": 7,
      "outputs": [
        {
          "output_type": "stream",
          "name": "stdout",
          "text": [
            "The slowest run took 8.75 times longer than the fastest. This could mean that an intermediate result is being cached.\n",
            "13.7 µs ± 9.25 µs per loop (mean ± std. dev. of 1000 runs, 1000 loops each)\n"
          ]
        }
      ]
    }
  ]
}