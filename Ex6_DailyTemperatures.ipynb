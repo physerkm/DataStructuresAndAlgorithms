{
  "nbformat": 4,
  "nbformat_minor": 0,
  "metadata": {
    "colab": {
      "provenance": []
    },
    "kernelspec": {
      "name": "python3",
      "display_name": "Python 3"
    },
    "language_info": {
      "name": "python"
    }
  },
  "cells": [
    {
      "cell_type": "markdown",
      "source": [
        "Given an array of integers `temperatures` represents the daily temperatures, return *an array* `answer` *such that* `answer[i]` *is the number of days you have to wait after the* $i^{th}$ *day to get a warmer temperature.* If there is no future day for which this is possible, keep `answer[i] == 0` instead. \n",
        "\n",
        "**Example 1:**\n",
        "\n",
        "Input: `temperatures = [73,74,75,71,69,72,76,73]`\n",
        "\n",
        "Output: `[1,1,4,2,1,1,0,0]`\n",
        "\n",
        "**Example 2:**\n",
        "\n",
        "Input: `temperatures = [30,40,50,60]`\n",
        "\n",
        "Output: `[1,1,1,0]`\n",
        "\n",
        "**Example 3:**\n",
        "\n",
        "Input: `temperatures = [30,60,90]`\n",
        "\n",
        "Output: `[1,1,0]` \n",
        "\n",
        "**Constraints:**\n",
        "\n",
        "*   1 <= temperatures.length <= $10^{5}$\n",
        "*   `30 <= temperatures[i] <= 100`\n",
        "\n"
      ],
      "metadata": {
        "id": "xIlsTQKqlUqX"
      }
    },
    {
      "cell_type": "code",
      "source": [
        "from typing import List"
      ],
      "metadata": {
        "id": "a5Q8FwGIEIiV"
      },
      "execution_count": 1,
      "outputs": []
    },
    {
      "cell_type": "code",
      "source": [
        "temperatures1 = [73,74,75,71,69,72,76,73]\n",
        "temperatures2 = [30,40,50,60]\n",
        "temperatures3 = [30,60,90]"
      ],
      "metadata": {
        "id": "PnwmrUH7mtu_"
      },
      "execution_count": 2,
      "outputs": []
    },
    {
      "cell_type": "code",
      "source": [
        "class Solution:\n",
        "  def dailyTemperatures(self, temperatures: List[int]) -> List[int]:\n",
        "    result = [0] * len(temperatures) # initialize with 0s so we don't have to manually add 0s if none is compliant later on\n",
        "    stack = [] #storing pair of temperature and corresponding index\n",
        "\n",
        "    for index, temperature in enumerate(temperatures):\n",
        "      while stack and temperature > stack[-1][0]:\n",
        "        stackTemperature, stackIndex = stack.pop()\n",
        "        result[stackIndex] = (index - stackIndex)\n",
        "      stack.append([temperature, index])\n",
        "    return result"
      ],
      "metadata": {
        "id": "GwUzPs0P5qLJ"
      },
      "execution_count": 3,
      "outputs": []
    },
    {
      "cell_type": "code",
      "source": [
        "s = Solution()"
      ],
      "metadata": {
        "id": "ExHl3It-Db4_"
      },
      "execution_count": 4,
      "outputs": []
    },
    {
      "cell_type": "code",
      "source": [
        "s.dailyTemperatures(temperatures1)"
      ],
      "metadata": {
        "colab": {
          "base_uri": "https://localhost:8080/"
        },
        "id": "aH4SqadDEM7y",
        "outputId": "ddd0a28e-5be3-4c86-db0d-dab0d0b88000"
      },
      "execution_count": 5,
      "outputs": [
        {
          "output_type": "execute_result",
          "data": {
            "text/plain": [
              "[1, 1, 4, 2, 1, 1, 0, 0]"
            ]
          },
          "metadata": {},
          "execution_count": 5
        }
      ]
    },
    {
      "cell_type": "code",
      "source": [
        "s.dailyTemperatures(temperatures2)"
      ],
      "metadata": {
        "colab": {
          "base_uri": "https://localhost:8080/"
        },
        "id": "rb-Dhu_mEbc9",
        "outputId": "7b703a16-affb-4046-9d44-e7c23bd4e7b5"
      },
      "execution_count": 6,
      "outputs": [
        {
          "output_type": "execute_result",
          "data": {
            "text/plain": [
              "[1, 1, 1, 0]"
            ]
          },
          "metadata": {},
          "execution_count": 6
        }
      ]
    },
    {
      "cell_type": "code",
      "source": [
        "s.dailyTemperatures(temperatures3)"
      ],
      "metadata": {
        "colab": {
          "base_uri": "https://localhost:8080/"
        },
        "id": "nT6ZrYMzEeNo",
        "outputId": "d3a16314-2138-401e-9d48-368603c3f17a"
      },
      "execution_count": 7,
      "outputs": [
        {
          "output_type": "execute_result",
          "data": {
            "text/plain": [
              "[1, 1, 0]"
            ]
          },
          "metadata": {},
          "execution_count": 7
        }
      ]
    }
  ]
}