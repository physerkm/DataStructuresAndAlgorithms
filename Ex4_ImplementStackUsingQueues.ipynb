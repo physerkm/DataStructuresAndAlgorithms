{
  "nbformat": 4,
  "nbformat_minor": 0,
  "metadata": {
    "colab": {
      "provenance": []
    },
    "kernelspec": {
      "name": "python3",
      "display_name": "Python 3"
    },
    "language_info": {
      "name": "python"
    }
  },
  "cells": [
    {
      "cell_type": "markdown",
      "source": [
        "Implement a last-in-first-out (LIFO) stack using only two queues. The implemented stack should support all the functions of a normal stack (`push`, `top`, `pop`, and `empty`).\n",
        "\n",
        "Implement the `MyStack` class:\n",
        "\n",
        "*   `void push(int x)` Pushes element x to the top of the stack.\n",
        "*   `int pop()` Removes the element on the top of the stack and returns it.\n",
        "*   `int top()` Returns the element on the top of the stack.\n",
        "*   `boolean empty()` Returns true if the stack is empty, false otherwise.\n",
        "\n",
        "**Notes:**\n",
        "\n",
        "*   You must use **only** standard operations of a queue, which means that only `push to back`, `peek/pop from front`, `size` and `is empty` operations are valid.\n",
        "*   Depending on your language, the queue may not be supported natively. You may simulate a queue using a list or deque (double-ended queue) as long as you use only a queue's standard operations.\n",
        "\n",
        "**Example 1:**\n",
        "```\n",
        "Input\n",
        "[\"MyStack\", \"push\", \"push\", \"top\", \"pop\", \"empty\"]\n",
        "[[], [1], [2], [], [], []]\n",
        "Output\n",
        "[null, null, null, 2, 2, false]\n",
        "\n",
        "Explanation\n",
        "MyStack myStack = new MyStack();\n",
        "myStack.push(1);\n",
        "myStack.push(2);\n",
        "myStack.top(); // return 2\n",
        "myStack.pop(); // return 2\n",
        "myStack.empty(); // return False\n",
        "```\n",
        "\n",
        "**Constraints:**\n",
        "\n",
        "\n",
        "\n",
        "*   `1 <= x <= 9`\n",
        "*   At most `100` calls will be made to `push`, `pop`, `top`, and `empty`.\n",
        "*   All the calls to `pop` and `top` are valid.\n",
        "\n",
        " \n",
        "\n",
        "**Follow-up:** Can you implement the stack using only one queue?"
      ],
      "metadata": {
        "id": "4aS9VNQIfSAR"
      }
    },
    {
      "cell_type": "code",
      "source": [
        "from collections import deque"
      ],
      "metadata": {
        "id": "SCFMgWSCvpxu"
      },
      "execution_count": 1,
      "outputs": []
    },
    {
      "cell_type": "code",
      "source": [
        "class MyStack:\n",
        "\n",
        "  def __init__(self):\n",
        "    self.myQueue = deque()\n",
        "\n",
        "  def push(self, x: int) -> None:\n",
        "    self.myQueue.append(x)\n",
        "\n",
        "  def pop(self) -> int:\n",
        "    for i in range(len(self.myQueue)-1):\n",
        "      self.myQueue.append(self.myQueue.popleft()) #we pop everything but the last one (and also we append them back)\n",
        "    return self.myQueue.popleft() #we pop the last one and not append it back\n",
        "\n",
        "  def top(self) -> int:\n",
        "      return self.myQueue[-1]\n",
        "\n",
        "  def empty(self) -> bool:\n",
        "      return len(self.myQueue) == 0\n",
        "\n",
        "# Your MyStack object will be instantiated and called as such:\n",
        "# obj = MyStack()\n",
        "# obj.push(x)\n",
        "# param_2 = obj.pop()\n",
        "# param_3 = obj.top()\n",
        "# param_4 = obj.empty()"
      ],
      "metadata": {
        "id": "nKJoHfc8hNUu"
      },
      "execution_count": 2,
      "outputs": []
    },
    {
      "cell_type": "code",
      "source": [
        "myStack = MyStack()"
      ],
      "metadata": {
        "id": "m1KdSiuLwxRt"
      },
      "execution_count": 3,
      "outputs": []
    },
    {
      "cell_type": "code",
      "source": [
        "myStack.push(1)"
      ],
      "metadata": {
        "id": "YnP-Z22Bw9d4"
      },
      "execution_count": 4,
      "outputs": []
    },
    {
      "cell_type": "code",
      "source": [
        "myStack.push(2)"
      ],
      "metadata": {
        "id": "rmFk_ihgw_yX"
      },
      "execution_count": 5,
      "outputs": []
    },
    {
      "cell_type": "code",
      "source": [
        "myStack.top() "
      ],
      "metadata": {
        "colab": {
          "base_uri": "https://localhost:8080/"
        },
        "id": "PFakrQ__xBwJ",
        "outputId": "5224d0fa-477c-402b-d5bc-cf8f6ec45d86"
      },
      "execution_count": 6,
      "outputs": [
        {
          "output_type": "execute_result",
          "data": {
            "text/plain": [
              "2"
            ]
          },
          "metadata": {},
          "execution_count": 6
        }
      ]
    },
    {
      "cell_type": "code",
      "source": [
        "myStack.pop()"
      ],
      "metadata": {
        "colab": {
          "base_uri": "https://localhost:8080/"
        },
        "id": "VtAsO87PxGuX",
        "outputId": "d7fdb16c-e885-4dea-e565-a166193d63cb"
      },
      "execution_count": 7,
      "outputs": [
        {
          "output_type": "execute_result",
          "data": {
            "text/plain": [
              "2"
            ]
          },
          "metadata": {},
          "execution_count": 7
        }
      ]
    },
    {
      "cell_type": "code",
      "source": [
        "myStack.empty()"
      ],
      "metadata": {
        "colab": {
          "base_uri": "https://localhost:8080/"
        },
        "id": "a0ARfr2HxJeg",
        "outputId": "6ab297ee-75ce-493d-b7c0-d5759040ffdf"
      },
      "execution_count": 8,
      "outputs": [
        {
          "output_type": "execute_result",
          "data": {
            "text/plain": [
              "False"
            ]
          },
          "metadata": {},
          "execution_count": 8
        }
      ]
    }
  ]
}