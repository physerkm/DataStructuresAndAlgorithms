{
  "nbformat": 4,
  "nbformat_minor": 0,
  "metadata": {
    "colab": {
      "provenance": []
    },
    "kernelspec": {
      "name": "python3",
      "display_name": "Python 3"
    },
    "language_info": {
      "name": "python"
    }
  },
  "cells": [
    {
      "cell_type": "markdown",
      "source": [
        "Given an array of integers `nums` containing `n + 1` integers where each integer is in the range `[1, n]` inclusive.\n",
        "\n",
        "There is only **one repeated number** in `nums`, return *this repeated number*.\n",
        "\n",
        "You must solve the problem **without** modifying the array `nums` and uses only constant extra space. \n",
        "\n",
        "**Example 1:**\n",
        "\n",
        "Input: `nums = [1,3,4,2,2]`\n",
        "\n",
        "Output: `2`\n",
        "\n",
        "**Example 2:**\n",
        "\n",
        "Input: `nums = [3,1,3,4,2]`\n",
        "\n",
        "Output: `3` \n",
        "\n",
        "**Constraints:**\n",
        "\n",
        "*   $1 <= n <= 10^{5}$\n",
        "*   `nums.length == n + 1`\n",
        "*   `1 <= nums[i] <= n`\n",
        "*   All the integers in `nums` appear only **once** except for **precisely one integer** which appears **two or more** times. \n",
        "\n",
        "**Follow up:**\n",
        "\n",
        "*   How can we prove that at least one duplicate number must exist in `nums`?\n",
        "*   Can you solve the problem in linear runtime complexity?"
      ],
      "metadata": {
        "id": "gugGtW2rb-gX"
      }
    },
    {
      "cell_type": "code",
      "source": [
        "# time -> O(n)\n",
        "# space -> O(1)"
      ],
      "metadata": {
        "id": "KEJv9efLdcVz"
      },
      "execution_count": 1,
      "outputs": []
    },
    {
      "cell_type": "code",
      "source": [
        "def floydSolution():\n",
        "  slowPointer = 0\n",
        "  fastPointer = 0\n",
        "\n",
        "  while True:\n",
        "    slowPointer = nums[slowPointer]\n",
        "    fastPointer = nums[nums[fastPointer]]\n",
        "    print(\"first while\")\n",
        "    print(slowPointer)\n",
        "    print(fastPointer)\n",
        "    if slowPointer == fastPointer:\n",
        "      break\n",
        "\n",
        "  secondSlowPointer = 0\n",
        "  while True:\n",
        "    slowPointer = nums[slowPointer]\n",
        "    secondSlowPointer = nums[secondSlowPointer]\n",
        "    print(\"second while\")\n",
        "    print(slowPointer)\n",
        "    print(secondSlowPointer)\n",
        "    if slowPointer == secondSlowPointer:\n",
        "      return slowPointer   \n"
      ],
      "metadata": {
        "id": "2Wo4xTfzNu5Y"
      },
      "execution_count": 2,
      "outputs": []
    },
    {
      "cell_type": "code",
      "source": [
        "nums = [1,3,4,2,2]"
      ],
      "metadata": {
        "id": "NGC_E42jPQg6"
      },
      "execution_count": 3,
      "outputs": []
    },
    {
      "cell_type": "code",
      "source": [
        "floydSolution()"
      ],
      "metadata": {
        "colab": {
          "base_uri": "https://localhost:8080/"
        },
        "id": "3wK57Dr2PRlg",
        "outputId": "4c56ca0b-dbe4-4439-d8c3-e8eaf450237b"
      },
      "execution_count": 4,
      "outputs": [
        {
          "output_type": "stream",
          "name": "stdout",
          "text": [
            "first while\n",
            "1\n",
            "3\n",
            "first while\n",
            "3\n",
            "4\n",
            "first while\n",
            "2\n",
            "4\n",
            "first while\n",
            "4\n",
            "4\n",
            "second while\n",
            "2\n",
            "1\n",
            "second while\n",
            "4\n",
            "3\n",
            "second while\n",
            "2\n",
            "2\n"
          ]
        },
        {
          "output_type": "execute_result",
          "data": {
            "text/plain": [
              "2"
            ]
          },
          "metadata": {},
          "execution_count": 4
        }
      ]
    },
    {
      "cell_type": "code",
      "source": [
        "nums = [3,1,3,4,2]"
      ],
      "metadata": {
        "id": "JXaVfeAKYT6j"
      },
      "execution_count": 5,
      "outputs": []
    },
    {
      "cell_type": "code",
      "source": [
        "floydSolution()"
      ],
      "metadata": {
        "colab": {
          "base_uri": "https://localhost:8080/"
        },
        "id": "9AhZlK6ePdXv",
        "outputId": "42c9baf7-e008-4aa4-d240-3e22aad6a92a"
      },
      "execution_count": 6,
      "outputs": [
        {
          "output_type": "stream",
          "name": "stdout",
          "text": [
            "first while\n",
            "3\n",
            "4\n",
            "first while\n",
            "4\n",
            "3\n",
            "first while\n",
            "2\n",
            "2\n",
            "second while\n",
            "3\n",
            "3\n"
          ]
        },
        {
          "output_type": "execute_result",
          "data": {
            "text/plain": [
              "3"
            ]
          },
          "metadata": {},
          "execution_count": 6
        }
      ]
    },
    {
      "cell_type": "code",
      "source": [
        "nums = [3,1,3,4,2]"
      ],
      "metadata": {
        "id": "ejlUVlAGPcFI"
      },
      "execution_count": 7,
      "outputs": []
    },
    {
      "cell_type": "code",
      "source": [
        "def solution2():\n",
        "  for i in range(0, len(nums)):\n",
        "    for j in range(0, len(nums)):\n",
        "      if i == j:\n",
        "        continue\n",
        "      if nums[i] == nums[j]:\n",
        "        return nums[i]"
      ],
      "metadata": {
        "id": "xWU2HpGG-45Y"
      },
      "execution_count": 8,
      "outputs": []
    },
    {
      "cell_type": "code",
      "source": [
        "nums = [1,3,4,2,2]"
      ],
      "metadata": {
        "id": "UZBLFjrO_KBm"
      },
      "execution_count": 9,
      "outputs": []
    },
    {
      "cell_type": "code",
      "source": [
        "solution2()"
      ],
      "metadata": {
        "colab": {
          "base_uri": "https://localhost:8080/"
        },
        "id": "bgfzD8WS-7p7",
        "outputId": "0b86cb22-1a24-4ffd-afdd-6a266bbb8a56"
      },
      "execution_count": 10,
      "outputs": [
        {
          "output_type": "execute_result",
          "data": {
            "text/plain": [
              "2"
            ]
          },
          "metadata": {},
          "execution_count": 10
        }
      ]
    },
    {
      "cell_type": "code",
      "source": [
        "nums = [3,1,3,4,2]"
      ],
      "metadata": {
        "id": "ciHuXrvr_Ay9"
      },
      "execution_count": 11,
      "outputs": []
    },
    {
      "cell_type": "code",
      "source": [
        "solution2()"
      ],
      "metadata": {
        "colab": {
          "base_uri": "https://localhost:8080/"
        },
        "id": "pUxKdRnh_BxN",
        "outputId": "20db794f-a44a-4299-a9b9-345809df7d93"
      },
      "execution_count": 12,
      "outputs": [
        {
          "output_type": "execute_result",
          "data": {
            "text/plain": [
              "3"
            ]
          },
          "metadata": {},
          "execution_count": 12
        }
      ]
    }
  ]
}