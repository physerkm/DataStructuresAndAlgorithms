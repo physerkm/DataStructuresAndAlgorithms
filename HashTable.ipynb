{
  "nbformat": 4,
  "nbformat_minor": 0,
  "metadata": {
    "colab": {
      "provenance": []
    },
    "kernelspec": {
      "name": "python3",
      "display_name": "Python 3"
    },
    "language_info": {
      "name": "python"
    }
  },
  "cells": [
    {
      "cell_type": "code",
      "source": [
        "help(hash)"
      ],
      "metadata": {
        "colab": {
          "base_uri": "https://localhost:8080/"
        },
        "id": "6ncclcycNCkX",
        "outputId": "790ab4a8-3252-4b1b-d448-e1b2ddf22bee"
      },
      "execution_count": 1,
      "outputs": [
        {
          "output_type": "stream",
          "name": "stdout",
          "text": [
            "Help on built-in function hash in module builtins:\n",
            "\n",
            "hash(obj, /)\n",
            "    Return the hash value for the given object.\n",
            "    \n",
            "    Two objects that compare equal must also have the same hash value, but the\n",
            "    reverse is not necessarily true.\n",
            "\n"
          ]
        }
      ]
    },
    {
      "cell_type": "code",
      "source": [
        "hash(20)"
      ],
      "metadata": {
        "colab": {
          "base_uri": "https://localhost:8080/"
        },
        "id": "ZhskHahNOZWR",
        "outputId": "81bcd18f-15ef-422e-d98d-4601525ac4f4"
      },
      "execution_count": 2,
      "outputs": [
        {
          "output_type": "execute_result",
          "data": {
            "text/plain": [
              "20"
            ]
          },
          "metadata": {},
          "execution_count": 2
        }
      ]
    },
    {
      "cell_type": "code",
      "source": [
        "hash(\"google\")"
      ],
      "metadata": {
        "colab": {
          "base_uri": "https://localhost:8080/"
        },
        "id": "GpzABWYgObjs",
        "outputId": "d5512d1d-e61b-4ce6-d50d-129b8fa295b5"
      },
      "execution_count": 3,
      "outputs": [
        {
          "output_type": "execute_result",
          "data": {
            "text/plain": [
              "6654454153306442823"
            ]
          },
          "metadata": {},
          "execution_count": 3
        }
      ]
    },
    {
      "cell_type": "code",
      "source": [
        "hash(\"googl\")"
      ],
      "metadata": {
        "colab": {
          "base_uri": "https://localhost:8080/"
        },
        "id": "ggM8M3cvOfOp",
        "outputId": "c21046a2-606e-4201-a868-97df7ad87f73"
      },
      "execution_count": 4,
      "outputs": [
        {
          "output_type": "execute_result",
          "data": {
            "text/plain": [
              "3575989278775980808"
            ]
          },
          "metadata": {},
          "execution_count": 4
        }
      ]
    },
    {
      "cell_type": "code",
      "source": [
        "hash(\"google\")"
      ],
      "metadata": {
        "colab": {
          "base_uri": "https://localhost:8080/"
        },
        "id": "N14bT-ffOuMh",
        "outputId": "203489c4-e525-4db7-f8cc-53e83842f546"
      },
      "execution_count": 5,
      "outputs": [
        {
          "output_type": "execute_result",
          "data": {
            "text/plain": [
              "6654454153306442823"
            ]
          },
          "metadata": {},
          "execution_count": 5
        }
      ]
    },
    {
      "cell_type": "code",
      "source": [
        "hash(\"google\") % 8"
      ],
      "metadata": {
        "colab": {
          "base_uri": "https://localhost:8080/"
        },
        "id": "XXQ7aUNKPBfg",
        "outputId": "a4b95b20-f373-4e7d-c451-ffef1f10c881"
      },
      "execution_count": 6,
      "outputs": [
        {
          "output_type": "execute_result",
          "data": {
            "text/plain": [
              "7"
            ]
          },
          "metadata": {},
          "execution_count": 6
        }
      ]
    },
    {
      "cell_type": "code",
      "source": [
        "hash(\"google\") % 8"
      ],
      "metadata": {
        "colab": {
          "base_uri": "https://localhost:8080/"
        },
        "id": "N60zMCQmQnMe",
        "outputId": "9a84ee6b-a6e8-4ea8-8408-8d266a302a03"
      },
      "execution_count": 7,
      "outputs": [
        {
          "output_type": "execute_result",
          "data": {
            "text/plain": [
              "7"
            ]
          },
          "metadata": {},
          "execution_count": 7
        }
      ]
    },
    {
      "cell_type": "code",
      "source": [
        "ord(\"g\")"
      ],
      "metadata": {
        "colab": {
          "base_uri": "https://localhost:8080/"
        },
        "id": "Ku2GqdcCPx1e",
        "outputId": "269f00a9-8a3b-4f43-ca4b-51b1606e6ed2"
      },
      "execution_count": 8,
      "outputs": [
        {
          "output_type": "execute_result",
          "data": {
            "text/plain": [
              "103"
            ]
          },
          "metadata": {},
          "execution_count": 8
        }
      ]
    },
    {
      "cell_type": "code",
      "source": [
        "ord(\"o\")"
      ],
      "metadata": {
        "colab": {
          "base_uri": "https://localhost:8080/"
        },
        "id": "UZddRMMVPzki",
        "outputId": "bafdf4e8-eeee-4b2d-a7ea-e03b9836aff4"
      },
      "execution_count": 9,
      "outputs": [
        {
          "output_type": "execute_result",
          "data": {
            "text/plain": [
              "111"
            ]
          },
          "metadata": {},
          "execution_count": 9
        }
      ]
    },
    {
      "cell_type": "code",
      "source": [
        "ord(\"go\")"
      ],
      "metadata": {
        "colab": {
          "base_uri": "https://localhost:8080/",
          "height": 165
        },
        "id": "FWdfb92XP41R",
        "outputId": "a7d69681-7615-4ad8-b8c2-565893fb5529"
      },
      "execution_count": 10,
      "outputs": [
        {
          "output_type": "error",
          "ename": "TypeError",
          "evalue": "ignored",
          "traceback": [
            "\u001b[0;31m---------------------------------------------------------------------------\u001b[0m",
            "\u001b[0;31mTypeError\u001b[0m                                 Traceback (most recent call last)",
            "\u001b[0;32m<ipython-input-10-d1b515e74624>\u001b[0m in \u001b[0;36m<cell line: 1>\u001b[0;34m()\u001b[0m\n\u001b[0;32m----> 1\u001b[0;31m \u001b[0mord\u001b[0m\u001b[0;34m(\u001b[0m\u001b[0;34m\"go\"\u001b[0m\u001b[0;34m)\u001b[0m\u001b[0;34m\u001b[0m\u001b[0;34m\u001b[0m\u001b[0m\n\u001b[0m",
            "\u001b[0;31mTypeError\u001b[0m: ord() expected a character, but string of length 2 found"
          ]
        }
      ]
    },
    {
      "cell_type": "code",
      "source": [
        "def hashFunction(key):\n",
        "  myHash = 0\n",
        "  for letter in key:\n",
        "    myHash = (myHash + ord(letter) * 13)\n",
        "  return myHash"
      ],
      "metadata": {
        "id": "IJuHtxhfPcSF"
      },
      "execution_count": 11,
      "outputs": []
    },
    {
      "cell_type": "code",
      "source": [
        "hashFunction(\"google\")"
      ],
      "metadata": {
        "colab": {
          "base_uri": "https://localhost:8080/"
        },
        "id": "9V6iZ1XPQgU7",
        "outputId": "069bc511-e38c-4f94-cdd2-5d62ca452424"
      },
      "execution_count": 12,
      "outputs": [
        {
          "output_type": "execute_result",
          "data": {
            "text/plain": [
              "8281"
            ]
          },
          "metadata": {},
          "execution_count": 12
        }
      ]
    },
    {
      "cell_type": "code",
      "source": [
        "hashFunction(\"google\")"
      ],
      "metadata": {
        "colab": {
          "base_uri": "https://localhost:8080/"
        },
        "id": "Y2G6SMh2QkuU",
        "outputId": "814a7d28-92ba-4448-9f16-2199effc8a73"
      },
      "execution_count": 13,
      "outputs": [
        {
          "output_type": "execute_result",
          "data": {
            "text/plain": [
              "8281"
            ]
          },
          "metadata": {},
          "execution_count": 13
        }
      ]
    },
    {
      "cell_type": "code",
      "source": [
        "# https://realpython.com/python-hash-table/"
      ],
      "metadata": {
        "id": "PuRdRjyvTFHG"
      },
      "execution_count": 14,
      "outputs": []
    },
    {
      "cell_type": "code",
      "source": [
        "class HashTable():\n",
        "\n",
        "  def __init__(self, size=13):\n",
        "    self.dataMap = [None] * size\n",
        "\n",
        "  def hashFunction(self, key):\n",
        "    myHash = 0\n",
        "    for letter in key:\n",
        "      myHash = (myHash + ord(letter) * 19) % len(self.dataMap)\n",
        "    return myHash\n",
        "\n",
        "  def setItem(self, key, value):\n",
        "    index = self.hashFunction(key)\n",
        "    if self.dataMap[index] == None:\n",
        "      self.dataMap[index] = []\n",
        "    self.dataMap[index].append([key, value])\n",
        "\n",
        "  def getItem(self, key):\n",
        "    index = self.hashFunction(key)\n",
        "    if self.dataMap[index] is not None:\n",
        "      for i in range(len(self.dataMap[index])):\n",
        "        if self.dataMap[index][i][0] == key:\n",
        "          return self.dataMap[index][i][1]\n",
        "    return None\n",
        "\n",
        "  def getKeys(self):\n",
        "    keys = []\n",
        "    for i in range(len(self.dataMap)):\n",
        "      if self.dataMap[i] is not None:\n",
        "        for j in range(len(self.dataMap[i])):\n",
        "          keys.append(self.dataMap[i][j][0])\n",
        "    return keys\n",
        "\n",
        "  def printTable(self):\n",
        "    for index, value in enumerate(self.dataMap):\n",
        "      print(index, \"-> \", value)"
      ],
      "metadata": {
        "id": "jQV-CJqhTHyk"
      },
      "execution_count": 15,
      "outputs": []
    },
    {
      "cell_type": "code",
      "source": [
        "myHashTable = HashTable()\n",
        "\n",
        "myHashTable.setItem('Google', 200)\n",
        "myHashTable.setItem('Microsoft', 150)\n",
        "myHashTable.setItem('Apple', 100)\n",
        "\n",
        "myHashTable.printTable()"
      ],
      "metadata": {
        "colab": {
          "base_uri": "https://localhost:8080/"
        },
        "id": "2fuSHIFfiNha",
        "outputId": "8e9e4bf7-c875-41d6-cc85-9cbbbf112ea8"
      },
      "execution_count": 16,
      "outputs": [
        {
          "output_type": "stream",
          "name": "stdout",
          "text": [
            "0 ->  None\n",
            "1 ->  None\n",
            "2 ->  None\n",
            "3 ->  [['Google', 200]]\n",
            "4 ->  None\n",
            "5 ->  None\n",
            "6 ->  [['Microsoft', 150]]\n",
            "7 ->  None\n",
            "8 ->  None\n",
            "9 ->  None\n",
            "10 ->  None\n",
            "11 ->  [['Apple', 100]]\n",
            "12 ->  None\n"
          ]
        }
      ]
    },
    {
      "cell_type": "code",
      "source": [
        "myHashTable.setItem('IBM', 250)\n",
        "myHashTable.setItem('Tesla', 150)\n",
        "myHashTable.setItem('Amazon', 100)\n",
        "\n",
        "myHashTable.printTable()"
      ],
      "metadata": {
        "colab": {
          "base_uri": "https://localhost:8080/"
        },
        "id": "fGdBDD1bjKLt",
        "outputId": "065bb339-27eb-4db4-d803-3c5223ad01be"
      },
      "execution_count": 17,
      "outputs": [
        {
          "output_type": "stream",
          "name": "stdout",
          "text": [
            "0 ->  None\n",
            "1 ->  [['Tesla', 150]]\n",
            "2 ->  None\n",
            "3 ->  [['Google', 200]]\n",
            "4 ->  None\n",
            "5 ->  [['Amazon', 100]]\n",
            "6 ->  [['Microsoft', 150]]\n",
            "7 ->  None\n",
            "8 ->  None\n",
            "9 ->  [['IBM', 250]]\n",
            "10 ->  None\n",
            "11 ->  [['Apple', 100]]\n",
            "12 ->  None\n"
          ]
        }
      ]
    },
    {
      "cell_type": "code",
      "source": [
        "myHashTable.getItem('Amazon')"
      ],
      "metadata": {
        "colab": {
          "base_uri": "https://localhost:8080/"
        },
        "id": "LfCw71vjjmKm",
        "outputId": "a4c93870-3f2e-4165-8f3c-434eec759264"
      },
      "execution_count": 18,
      "outputs": [
        {
          "output_type": "execute_result",
          "data": {
            "text/plain": [
              "100"
            ]
          },
          "metadata": {},
          "execution_count": 18
        }
      ]
    },
    {
      "cell_type": "code",
      "source": [
        "myHashTable.getItem('Google')"
      ],
      "metadata": {
        "colab": {
          "base_uri": "https://localhost:8080/"
        },
        "id": "RWYArNgj1cUh",
        "outputId": "a41d8b5a-bbec-4c3a-a26e-a37d675a6254"
      },
      "execution_count": 19,
      "outputs": [
        {
          "output_type": "execute_result",
          "data": {
            "text/plain": [
              "200"
            ]
          },
          "metadata": {},
          "execution_count": 19
        }
      ]
    },
    {
      "cell_type": "code",
      "source": [
        "myHashTable.getKeys()"
      ],
      "metadata": {
        "colab": {
          "base_uri": "https://localhost:8080/"
        },
        "id": "fU_E-0D51hs1",
        "outputId": "65ced20c-8775-44bd-c219-85b5f7186948"
      },
      "execution_count": 20,
      "outputs": [
        {
          "output_type": "execute_result",
          "data": {
            "text/plain": [
              "['Tesla', 'Google', 'Amazon', 'Microsoft', 'IBM', 'Apple']"
            ]
          },
          "metadata": {},
          "execution_count": 20
        }
      ]
    },
    {
      "cell_type": "code",
      "source": [
        "myHashTable.setItem('Trendyol', 5)"
      ],
      "metadata": {
        "id": "iNocM55Z1ozu"
      },
      "execution_count": 21,
      "outputs": []
    },
    {
      "cell_type": "code",
      "source": [
        "myHashTable.printTable()"
      ],
      "metadata": {
        "colab": {
          "base_uri": "https://localhost:8080/"
        },
        "id": "lVzosmqc13qQ",
        "outputId": "43cc4e49-2d95-4b04-de52-14160970f71b"
      },
      "execution_count": 22,
      "outputs": [
        {
          "output_type": "stream",
          "name": "stdout",
          "text": [
            "0 ->  None\n",
            "1 ->  [['Tesla', 150]]\n",
            "2 ->  None\n",
            "3 ->  [['Google', 200]]\n",
            "4 ->  None\n",
            "5 ->  [['Amazon', 100]]\n",
            "6 ->  [['Microsoft', 150]]\n",
            "7 ->  None\n",
            "8 ->  None\n",
            "9 ->  [['IBM', 250]]\n",
            "10 ->  None\n",
            "11 ->  [['Apple', 100], ['Trendyol', 5]]\n",
            "12 ->  None\n"
          ]
        }
      ]
    },
    {
      "cell_type": "code",
      "source": [
        "class HashTable():\n",
        "\n",
        "  def __init__(self, size=13):\n",
        "    self.dataMap = [None] * size\n",
        "\n",
        "  def hashFunction(self, key):\n",
        "    return sum(\n",
        "        index * ord(character)\n",
        "        for index, character in enumerate(repr(key).lstrip(\"\"), 1)\n",
        "    ) % len(self.dataMap)\n",
        "\n",
        "  def setItem(self, key, value):\n",
        "    index = self.hashFunction(key)\n",
        "    if self.dataMap[index] == None:\n",
        "      self.dataMap[index] = []\n",
        "    self.dataMap[index].append([key, value])\n",
        "\n",
        "  def getItem(self, key):\n",
        "    index = self.hashFunction(key)\n",
        "    if self.dataMap[index] is not None:\n",
        "      for i in range(len(self.dataMap[index])):\n",
        "        if self.dataMap[index][i][0] == key:\n",
        "          return self.dataMap[index][i][1]\n",
        "    return None\n",
        "\n",
        "  def getKeys(self):\n",
        "    keys = []\n",
        "    for i in range(len(self.dataMap)):\n",
        "      if self.dataMap[i] is not None:\n",
        "        for j in range(len(self.dataMap[i])):\n",
        "          keys.append(self.dataMap[i][j][0])\n",
        "    return keys\n",
        "\n",
        "  def printTable(self):\n",
        "    for index, value in enumerate(self.dataMap):\n",
        "      print(index, \"-> \", value)"
      ],
      "metadata": {
        "id": "Cl5GoUPj29Vx"
      },
      "execution_count": 23,
      "outputs": []
    },
    {
      "cell_type": "code",
      "source": [
        "myHashTable = HashTable()\n",
        "\n",
        "myHashTable.setItem('Google', 200)\n",
        "myHashTable.setItem('Microsoft', 150)\n",
        "myHashTable.setItem('Apple', 100)\n",
        "\n",
        "myHashTable.printTable()"
      ],
      "metadata": {
        "colab": {
          "base_uri": "https://localhost:8080/"
        },
        "id": "j2NyutqP2vi8",
        "outputId": "1dc3e7ee-d882-4060-9671-43443e02c0e9"
      },
      "execution_count": 24,
      "outputs": [
        {
          "output_type": "stream",
          "name": "stdout",
          "text": [
            "0 ->  None\n",
            "1 ->  None\n",
            "2 ->  None\n",
            "3 ->  None\n",
            "4 ->  None\n",
            "5 ->  None\n",
            "6 ->  [['Apple', 100]]\n",
            "7 ->  [['Google', 200]]\n",
            "8 ->  None\n",
            "9 ->  [['Microsoft', 150]]\n",
            "10 ->  None\n",
            "11 ->  None\n",
            "12 ->  None\n"
          ]
        }
      ]
    },
    {
      "cell_type": "code",
      "source": [
        "myHashTable.getItem('Amazon')"
      ],
      "metadata": {
        "id": "AjwGjGdf3K3R"
      },
      "execution_count": 25,
      "outputs": []
    }
  ]
}