{
  "nbformat": 4,
  "nbformat_minor": 0,
  "metadata": {
    "colab": {
      "provenance": []
    },
    "kernelspec": {
      "name": "python3",
      "display_name": "Python 3"
    },
    "language_info": {
      "name": "python"
    }
  },
  "cells": [
    {
      "cell_type": "markdown",
      "source": [
        "Write a function that reverses a string. The input string is given as an array of characters `s`.\n",
        "\n",
        "You must do this by modifying the input array **in-place** with `O(1)` extra memory. \n",
        "\n",
        "**Example 1:**\n",
        "\n",
        "Input: `s = [\"h\",\"e\",\"l\",\"l\",\"o\"]`\n",
        "\n",
        "Output: `[\"o\",\"l\",\"l\",\"e\",\"h\"]`\n",
        "\n",
        "**Example 2:**\n",
        "\n",
        "Input: `s = [\"H\",\"a\",\"n\",\"n\",\"a\",\"h\"]`\n",
        "\n",
        "Output: `[\"h\",\"a\",\"n\",\"n\",\"a\",\"H\"]`\n",
        " \n",
        "\n",
        "**Constraints:**\n",
        "\n",
        "*   1 <= s.length <= $10^{5}$\n",
        "*   `s[i]` is a **printable ascii character**."
      ],
      "metadata": {
        "id": "id-Lv3bqxdjJ"
      }
    },
    {
      "cell_type": "code",
      "source": [
        "s = [\"h\",\"e\",\"l\",\"l\",\"o\"]"
      ],
      "metadata": {
        "id": "EEIA0GWeyDkI"
      },
      "execution_count": 1,
      "outputs": []
    },
    {
      "cell_type": "code",
      "source": [
        "s[0], s[-1] = s[-1], s[0]"
      ],
      "metadata": {
        "id": "d1LGuLpNDlZG"
      },
      "execution_count": 2,
      "outputs": []
    },
    {
      "cell_type": "code",
      "source": [
        "s"
      ],
      "metadata": {
        "colab": {
          "base_uri": "https://localhost:8080/"
        },
        "id": "-jazHt9tDtAi",
        "outputId": "ce3128f3-ff84-418d-cd16-0f0e22f0309c"
      },
      "execution_count": 3,
      "outputs": [
        {
          "output_type": "execute_result",
          "data": {
            "text/plain": [
              "['o', 'e', 'l', 'l', 'h']"
            ]
          },
          "metadata": {},
          "execution_count": 3
        }
      ]
    },
    {
      "cell_type": "code",
      "source": [
        "s = [\"h\",\"e\",\"l\",\"l\",\"o\"]"
      ],
      "metadata": {
        "id": "PmBhNsXuJ0uC"
      },
      "execution_count": 4,
      "outputs": []
    },
    {
      "cell_type": "code",
      "source": [
        "from typing import List"
      ],
      "metadata": {
        "id": "uADTC-V8Gc9S"
      },
      "execution_count": 5,
      "outputs": []
    },
    {
      "cell_type": "code",
      "source": [
        "class Solution:\n",
        "  def reverseString(self, s: List[str]) -> None:\n",
        "    self.reverseRecursive(s, 0, len(s)-1)\n",
        "        \n",
        "  def reverseRecursive(self, s:List[str], start:int,end:int):\n",
        "    if start > end:\n",
        "      return\n",
        "    s[start], s[end] = s[end], s[start]\n",
        "    self.reverseRecursive(s, start+1, end-1)"
      ],
      "metadata": {
        "id": "H--bYP-pDzC3"
      },
      "execution_count": 6,
      "outputs": []
    },
    {
      "cell_type": "code",
      "source": [
        "a = Solution()"
      ],
      "metadata": {
        "id": "CbUd0eoeGhCW"
      },
      "execution_count": 7,
      "outputs": []
    },
    {
      "cell_type": "code",
      "source": [
        "a.reverseString(s)"
      ],
      "metadata": {
        "id": "N8cDLIdqEavL"
      },
      "execution_count": 8,
      "outputs": []
    },
    {
      "cell_type": "code",
      "source": [
        "s"
      ],
      "metadata": {
        "colab": {
          "base_uri": "https://localhost:8080/"
        },
        "id": "mTZ1p0dNJ5o0",
        "outputId": "2f0ebef5-f47b-40c1-f2a3-8ec424cd97c1"
      },
      "execution_count": 9,
      "outputs": [
        {
          "output_type": "execute_result",
          "data": {
            "text/plain": [
              "['o', 'l', 'l', 'e', 'h']"
            ]
          },
          "metadata": {},
          "execution_count": 9
        }
      ]
    },
    {
      "cell_type": "code",
      "source": [
        "s = [\"e\", \"r\", \"k\", \"a\", \"m\"]"
      ],
      "metadata": {
        "id": "qJq69JwHLAj4"
      },
      "execution_count": 10,
      "outputs": []
    },
    {
      "cell_type": "code",
      "source": [
        "a.reverseString(s)"
      ],
      "metadata": {
        "id": "zkRjj24LLHiW"
      },
      "execution_count": 11,
      "outputs": []
    },
    {
      "cell_type": "code",
      "source": [
        "s"
      ],
      "metadata": {
        "colab": {
          "base_uri": "https://localhost:8080/"
        },
        "id": "-m6BOmVrLKF3",
        "outputId": "b37ae64e-f2b8-414a-d574-c1dd07ff547a"
      },
      "execution_count": 12,
      "outputs": [
        {
          "output_type": "execute_result",
          "data": {
            "text/plain": [
              "['m', 'a', 'k', 'r', 'e']"
            ]
          },
          "metadata": {},
          "execution_count": 12
        }
      ]
    }
  ]
}