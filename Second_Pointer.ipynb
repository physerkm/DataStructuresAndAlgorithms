{
  "nbformat": 4,
  "nbformat_minor": 0,
  "metadata": {
    "colab": {
      "provenance": []
    },
    "kernelspec": {
      "name": "python3",
      "display_name": "Python 3"
    },
    "language_info": {
      "name": "python"
    }
  },
  "cells": [
    {
      "cell_type": "code",
      "execution_count": 1,
      "metadata": {
        "id": "KbKEgh2T8gOk"
      },
      "outputs": [],
      "source": [
        "class SortingAlgorithms:\n",
        "  def merge(self, arr1, arr2):\n",
        "    firstPointer = 0\n",
        "    secondPointer = 0\n",
        "    mergedList = []\n",
        "\n",
        "    while firstPointer < len(arr1) and secondPointer < len(arr2):\n",
        "      if arr1[firstPointer] < arr2[secondPointer]:\n",
        "        mergedList.append(arr1[firstPointer])\n",
        "        firstPointer = firstPointer + 1\n",
        "      else:\n",
        "        mergedList.append(arr2[secondPointer])\n",
        "        secondPointer = secondPointer + 1\n",
        "\n",
        "    while firstPointer < len(arr1):\n",
        "      mergedList.append(arr1[firstPointer])\n",
        "      firstPointer = firstPointer + 1\n",
        "\n",
        "    while secondPointer < len(arr2):\n",
        "      mergedList.append(arr2[secondPointer])\n",
        "      secondPointer = secondPointer + 1\n",
        "\n",
        "    return mergedList\n",
        "\n",
        "  def mergeSort(self, arr):\n",
        "    if len(arr) == 1:\n",
        "      return arr\n",
        "\n",
        "    midPoint = int(len(arr)/2)\n",
        "    leftPart = arr[:midPoint]\n",
        "    rightPart = arr[midPoint:]\n",
        "\n",
        "    return self.merge(self.mergeSort(leftPart), self.mergeSort(rightPart))"
      ]
    },
    {
      "cell_type": "code",
      "source": [
        "test = [5, 1, 3, 4, 2, 8, 6, 10]"
      ],
      "metadata": {
        "id": "6X9cHBJPA5_C"
      },
      "execution_count": 2,
      "outputs": []
    },
    {
      "cell_type": "code",
      "source": [
        "test[:4]"
      ],
      "metadata": {
        "colab": {
          "base_uri": "https://localhost:8080/"
        },
        "id": "AIFf7-e7BAJW",
        "outputId": "69f52fc0-4194-42e0-9d14-0e195572fbe0"
      },
      "execution_count": 3,
      "outputs": [
        {
          "output_type": "execute_result",
          "data": {
            "text/plain": [
              "[5, 1, 3, 4]"
            ]
          },
          "metadata": {},
          "execution_count": 3
        }
      ]
    },
    {
      "cell_type": "code",
      "source": [
        "test[4:]"
      ],
      "metadata": {
        "colab": {
          "base_uri": "https://localhost:8080/"
        },
        "id": "csI8VgOXBGU3",
        "outputId": "e5cc57a0-8bee-4e32-9ecc-84118d567055"
      },
      "execution_count": 4,
      "outputs": [
        {
          "output_type": "execute_result",
          "data": {
            "text/plain": [
              "[2, 8, 6, 10]"
            ]
          },
          "metadata": {},
          "execution_count": 4
        }
      ]
    },
    {
      "cell_type": "code",
      "source": [
        "sorting = SortingAlgorithms()"
      ],
      "metadata": {
        "id": "Q-sCHRh3BoMh"
      },
      "execution_count": 5,
      "outputs": []
    },
    {
      "cell_type": "code",
      "source": [
        "sorting.mergeSort([5, 1, 3, 4, 2, 8, 6, 10])"
      ],
      "metadata": {
        "colab": {
          "base_uri": "https://localhost:8080/"
        },
        "id": "3G39TP5ODBQA",
        "outputId": "2b038052-f825-4e0a-9a95-4b9bf25c8909"
      },
      "execution_count": 6,
      "outputs": [
        {
          "output_type": "execute_result",
          "data": {
            "text/plain": [
              "[1, 2, 3, 4, 5, 6, 8, 10]"
            ]
          },
          "metadata": {},
          "execution_count": 6
        }
      ]
    },
    {
      "cell_type": "code",
      "source": [
        "sorting.mergeSort([13, 17, 7, 3, 5, 19, 11, 23])"
      ],
      "metadata": {
        "colab": {
          "base_uri": "https://localhost:8080/"
        },
        "id": "T3dgGaWMEKdp",
        "outputId": "7d3a70ce-497b-4ef9-9186-ae7f79bb7bfd"
      },
      "execution_count": 7,
      "outputs": [
        {
          "output_type": "execute_result",
          "data": {
            "text/plain": [
              "[3, 5, 7, 11, 13, 17, 19, 23]"
            ]
          },
          "metadata": {},
          "execution_count": 7
        }
      ]
    }
  ]
}