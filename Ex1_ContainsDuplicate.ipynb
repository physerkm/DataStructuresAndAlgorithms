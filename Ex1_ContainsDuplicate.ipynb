{
  "nbformat": 4,
  "nbformat_minor": 0,
  "metadata": {
    "colab": {
      "provenance": []
    },
    "kernelspec": {
      "name": "python3",
      "display_name": "Python 3"
    },
    "language_info": {
      "name": "python"
    }
  },
  "cells": [
    {
      "cell_type": "markdown",
      "source": [
        "Given an integer array nums, return true if any value appears at least twice in the array, and return false if every element is distinct. \n",
        "\n",
        "**Example 1:**\n",
        "\n",
        "```\n",
        "Input: nums = [1,2,3,1]\n",
        "Output: true\n",
        "```\n",
        "\n",
        "**Example 2:**\n",
        "\n",
        "```\n",
        "Input: nums = [1,2,3,4]\n",
        "Output: false\n",
        "```\n",
        "\n",
        "**Example 3:**\n",
        "\n",
        "```\n",
        "Input: nums = [1,1,1,3,3,4,3,2,4,2]\n",
        "Output: true\n",
        "``` \n",
        "\n",
        "**Constraints:**\n",
        "\n",
        "\n",
        "$1<=nums.length<=10^{5}$\n",
        "\n",
        "$-10^{9} <= nums[i] <= 10^{9}$\n",
        "\n"
      ],
      "metadata": {
        "id": "5dSMfrtS6zYm"
      }
    },
    {
      "cell_type": "code",
      "source": [
        "myList = [1, 2, 3, 4, 5, 6, 7, 8]"
      ],
      "metadata": {
        "id": "cPCAwUhh9m5S"
      },
      "execution_count": 1,
      "outputs": []
    },
    {
      "cell_type": "code",
      "execution_count": 3,
      "metadata": {
        "id": "QJCqq-YF6oOE"
      },
      "outputs": [],
      "source": [
        "def solution():\n",
        "  hashSet = set()\n",
        "  for num in myList:\n",
        "    if num in hashSet:\n",
        "      return True\n",
        "    hashSet.add(num)\n",
        "  return False\n"
      ]
    },
    {
      "cell_type": "code",
      "source": [
        "solution()"
      ],
      "metadata": {
        "colab": {
          "base_uri": "https://localhost:8080/"
        },
        "id": "ohCXJk9u9tzM",
        "outputId": "ec802003-8f81-4a67-a636-4887c81fd4dd"
      },
      "execution_count": 4,
      "outputs": [
        {
          "output_type": "execute_result",
          "data": {
            "text/plain": [
              "False"
            ]
          },
          "metadata": {},
          "execution_count": 4
        }
      ]
    },
    {
      "cell_type": "code",
      "source": [
        "def solution2():\n",
        "  return len(myList) != len(set(myList))"
      ],
      "metadata": {
        "id": "iiWTb9xh9xWx"
      },
      "execution_count": 5,
      "outputs": []
    },
    {
      "cell_type": "code",
      "source": [
        "solution2()"
      ],
      "metadata": {
        "id": "J9cR25ND-bnq",
        "outputId": "8415deb8-1e7d-4810-8914-93a1b7586fae",
        "colab": {
          "base_uri": "https://localhost:8080/"
        }
      },
      "execution_count": 6,
      "outputs": [
        {
          "output_type": "execute_result",
          "data": {
            "text/plain": [
              "False"
            ]
          },
          "metadata": {},
          "execution_count": 6
        }
      ]
    }
  ]
}