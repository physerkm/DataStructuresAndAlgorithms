{
  "nbformat": 4,
  "nbformat_minor": 0,
  "metadata": {
    "colab": {
      "provenance": []
    },
    "kernelspec": {
      "name": "python3",
      "display_name": "Python 3"
    },
    "language_info": {
      "name": "python"
    }
  },
  "cells": [
    {
      "cell_type": "code",
      "execution_count": 1,
      "metadata": {
        "id": "fdL82cI6TjCA"
      },
      "outputs": [],
      "source": [
        "class SortingAlgorithms:\n",
        "\n",
        "  def bubbleSort(self, arr):\n",
        "    for i in range(len(arr) - 1, 0, -1):\n",
        "      print(i)"
      ]
    },
    {
      "cell_type": "code",
      "source": [
        "sorting = SortingAlgorithms()"
      ],
      "metadata": {
        "id": "_mdnN_KOUFy0"
      },
      "execution_count": 2,
      "outputs": []
    },
    {
      "cell_type": "code",
      "source": [
        "sorting.bubbleSort([5, 1, 3, 4, 2, 8, 6, 10])"
      ],
      "metadata": {
        "colab": {
          "base_uri": "https://localhost:8080/"
        },
        "id": "7_N3isjrUJVR",
        "outputId": "17be4213-1b08-44c8-a9b8-592dc0653dbd"
      },
      "execution_count": 3,
      "outputs": [
        {
          "output_type": "stream",
          "name": "stdout",
          "text": [
            "7\n",
            "6\n",
            "5\n",
            "4\n",
            "3\n",
            "2\n",
            "1\n"
          ]
        }
      ]
    },
    {
      "cell_type": "code",
      "source": [
        "class SortingAlgorithms:\n",
        "\n",
        "  def bubbleSort(self, arr):\n",
        "    for i in range(len(arr) - 1, 0, -1):\n",
        "      for j in range(i):\n",
        "        print(arr[j])\n",
        "        print(arr[i])"
      ],
      "metadata": {
        "id": "Kvy80jE8U_zF"
      },
      "execution_count": 4,
      "outputs": []
    },
    {
      "cell_type": "code",
      "source": [
        "sorting = SortingAlgorithms()"
      ],
      "metadata": {
        "id": "ICHOBJswVcVI"
      },
      "execution_count": 5,
      "outputs": []
    },
    {
      "cell_type": "code",
      "source": [
        "sorting.bubbleSort([5, 1, 3, 4, 2, 8, 6, 10])"
      ],
      "metadata": {
        "colab": {
          "base_uri": "https://localhost:8080/"
        },
        "id": "WgM9pLvKVf0k",
        "outputId": "301c21c7-2122-46c4-d7ed-389e24a14a93"
      },
      "execution_count": 6,
      "outputs": [
        {
          "output_type": "stream",
          "name": "stdout",
          "text": [
            "5\n",
            "10\n",
            "1\n",
            "10\n",
            "3\n",
            "10\n",
            "4\n",
            "10\n",
            "2\n",
            "10\n",
            "8\n",
            "10\n",
            "6\n",
            "10\n",
            "5\n",
            "6\n",
            "1\n",
            "6\n",
            "3\n",
            "6\n",
            "4\n",
            "6\n",
            "2\n",
            "6\n",
            "8\n",
            "6\n",
            "5\n",
            "8\n",
            "1\n",
            "8\n",
            "3\n",
            "8\n",
            "4\n",
            "8\n",
            "2\n",
            "8\n",
            "5\n",
            "2\n",
            "1\n",
            "2\n",
            "3\n",
            "2\n",
            "4\n",
            "2\n",
            "5\n",
            "4\n",
            "1\n",
            "4\n",
            "3\n",
            "4\n",
            "5\n",
            "3\n",
            "1\n",
            "3\n",
            "5\n",
            "1\n"
          ]
        }
      ]
    },
    {
      "cell_type": "code",
      "source": [
        "class SortingAlgorithms:\n",
        "\n",
        "  def bubbleSort(self, arr):\n",
        "    for i in range(len(arr) - 1, 0, -1):\n",
        "      for j in range(i):\n",
        "        if arr[j] > arr[j+1]:\n",
        "          arr[j], arr[j+1] = arr[j+1], arr[j]\n",
        "    return arr"
      ],
      "metadata": {
        "id": "gwgrdurHWOAb"
      },
      "execution_count": 7,
      "outputs": []
    },
    {
      "cell_type": "code",
      "source": [
        "sorting = SortingAlgorithms()"
      ],
      "metadata": {
        "id": "-jbZCd6uXINh"
      },
      "execution_count": 8,
      "outputs": []
    },
    {
      "cell_type": "code",
      "source": [
        "sorting.bubbleSort([5, 1, 3, 4, 2, 8, 6, 10])"
      ],
      "metadata": {
        "colab": {
          "base_uri": "https://localhost:8080/"
        },
        "id": "_QqdnY6pXLTd",
        "outputId": "d9c4c43d-a507-40ec-9938-25766ee408e9"
      },
      "execution_count": 9,
      "outputs": [
        {
          "output_type": "execute_result",
          "data": {
            "text/plain": [
              "[1, 2, 3, 4, 5, 6, 8, 10]"
            ]
          },
          "metadata": {},
          "execution_count": 9
        }
      ]
    }
  ]
}