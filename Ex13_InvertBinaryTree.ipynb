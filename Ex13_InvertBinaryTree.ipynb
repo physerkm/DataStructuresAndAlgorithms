{
  "nbformat": 4,
  "nbformat_minor": 0,
  "metadata": {
    "colab": {
      "provenance": []
    },
    "kernelspec": {
      "name": "python3",
      "display_name": "Python 3"
    },
    "language_info": {
      "name": "python"
    }
  },
  "cells": [
    {
      "cell_type": "markdown",
      "source": [
        "Given the `root` of a binary tree, invert the tree, and return *its root*.\n",
        "\n",
        "**Example 1:**\n",
        "\n",
        "<img src=\"https://assets.leetcode.com/uploads/2021/03/14/invert1-tree.jpg\">\n",
        "\n",
        "Input: `root = [4,2,7,1,3,6,9]`\n",
        "\n",
        "Output: `[4,7,2,9,6,3,1]`\n",
        "\n",
        "**Example 2:**\n",
        "\n",
        "<img src=\"https://assets.leetcode.com/uploads/2021/03/14/invert2-tree.jpg\">\n",
        "\n",
        "Input: `root = [2,1,3]`\n",
        "\n",
        "Output: `[2,3,1]`\n",
        "\n",
        "**Example 3:**\n",
        "\n",
        "Input: `root = []`\n",
        "\n",
        "Output: `[]` \n",
        "\n",
        "**Constraints:**\n",
        "\n",
        "*   The number of nodes in the tree is in the range `[0, 100]`.\n",
        "*   `-100 <= Node.val <= 100`\n"
      ],
      "metadata": {
        "id": "nxK7v0Ckwhye"
      }
    },
    {
      "cell_type": "code",
      "source": [
        "# Definition for a binary tree node.\n",
        "\n",
        "class TreeNode:\n",
        "  def __init__(self, val=0, left=None, right=None):\n",
        "    self.val = val\n",
        "    self.left = left\n",
        "    self.right = right"
      ],
      "metadata": {
        "id": "JvvoGsmWxa32"
      },
      "execution_count": 1,
      "outputs": []
    },
    {
      "cell_type": "code",
      "source": [
        "from typing import Optional"
      ],
      "metadata": {
        "id": "uH-fsUVJ6IDg"
      },
      "execution_count": 2,
      "outputs": []
    },
    {
      "cell_type": "code",
      "source": [
        "class Solution:\n",
        "  def invertTree(self, root: Optional[TreeNode]) -> Optional[TreeNode]:\n",
        "    \n",
        "    #Exit condition    \n",
        "    if root is None:\n",
        "      return None\n",
        "    \n",
        "    root.left, root.right = root.right, root.left\n",
        "        \n",
        "    self.invertTree(root.left)\n",
        "    self.invertTree(root.right)\n",
        "        \n",
        "    return root"
      ],
      "metadata": {
        "id": "uaCv6snb2olb"
      },
      "execution_count": 3,
      "outputs": []
    }
  ]
}