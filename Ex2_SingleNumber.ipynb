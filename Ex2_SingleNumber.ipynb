{
  "nbformat": 4,
  "nbformat_minor": 0,
  "metadata": {
    "colab": {
      "provenance": []
    },
    "kernelspec": {
      "name": "python3",
      "display_name": "Python 3"
    },
    "language_info": {
      "name": "python"
    }
  },
  "cells": [
    {
      "cell_type": "markdown",
      "source": [
        "Given a non-empty array of integers nums, every element appears twice except for one. Find that single one.\n",
        "\n",
        "You must implement a solution with a linear runtime complexity and use only constant extra space. \n",
        "\n",
        "**Example 1:**\n",
        "```\n",
        "Input: nums = [2,2,1]\n",
        "Output: 1\n",
        "```\n",
        "\n",
        "**Example 2:**\n",
        "```\n",
        "Input: nums = [4,1,2,1,2]\n",
        "Output: 4\n",
        "```\n",
        "\n",
        "**Example 3:**\n",
        "```\n",
        "Input: nums = [1]\n",
        "Output: 1\n",
        "``` \n",
        "\n",
        "**Constraints:**\n",
        "\n",
        "*   $1 <= nums.length <= 3 * 10^{4}$\n",
        "*   $-3 * 10^{4} <= nums[i] <= 3 * 10^{4}$\n",
        "*   Each element in the array appears twice except for one element which appears only once.    \n",
        "\n"
      ],
      "metadata": {
        "id": "bLMtdtQFIaR3"
      }
    },
    {
      "cell_type": "code",
      "source": [
        "from typing import List\n",
        "\n",
        "class Solution:\n",
        "  def singleNumber(self, nums: List[int]) -> int:\n",
        "    result = 0 # XOR with zero. Zero does not change XOR result.\n",
        "    \n",
        "    for number in nums:\n",
        "      result = number ^ result # XOR with number\n",
        "    \n",
        "    return result"
      ],
      "metadata": {
        "id": "FuHyCf3OJaDd"
      },
      "execution_count": 1,
      "outputs": []
    },
    {
      "cell_type": "code",
      "source": [
        "nums1 = [2, 2, 1]\n",
        "\n",
        "s = Solution()\n",
        "\n",
        "print(s.singleNumber(nums1))"
      ],
      "metadata": {
        "colab": {
          "base_uri": "https://localhost:8080/"
        },
        "id": "oD4sQBAPVcSN",
        "outputId": "84c75236-4e22-4bd4-d873-5b868aef8ee3"
      },
      "execution_count": 2,
      "outputs": [
        {
          "output_type": "stream",
          "name": "stdout",
          "text": [
            "1\n"
          ]
        }
      ]
    },
    {
      "cell_type": "code",
      "source": [
        "nums2 = [4, 1, 2, 1, 2]\n",
        "\n",
        "s = Solution()\n",
        "\n",
        "print(s.singleNumber(nums2))"
      ],
      "metadata": {
        "colab": {
          "base_uri": "https://localhost:8080/"
        },
        "id": "gsUtEU7NXrf8",
        "outputId": "1e2cc244-380b-4f8e-86f3-f61173adb341"
      },
      "execution_count": 3,
      "outputs": [
        {
          "output_type": "stream",
          "name": "stdout",
          "text": [
            "4\n"
          ]
        }
      ]
    },
    {
      "cell_type": "code",
      "source": [
        "nums3 = [1]\n",
        "\n",
        "s = Solution()\n",
        "\n",
        "print(s.singleNumber(nums3))"
      ],
      "metadata": {
        "colab": {
          "base_uri": "https://localhost:8080/"
        },
        "id": "e1p9KUbNXxyj",
        "outputId": "987f111b-ea00-432f-d7bf-d735f0963cb0"
      },
      "execution_count": 4,
      "outputs": [
        {
          "output_type": "stream",
          "name": "stdout",
          "text": [
            "1\n"
          ]
        }
      ]
    }
  ]
}