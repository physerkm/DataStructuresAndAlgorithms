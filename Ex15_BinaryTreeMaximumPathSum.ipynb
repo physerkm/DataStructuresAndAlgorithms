{
  "nbformat": 4,
  "nbformat_minor": 0,
  "metadata": {
    "colab": {
      "provenance": []
    },
    "kernelspec": {
      "name": "python3",
      "display_name": "Python 3"
    },
    "language_info": {
      "name": "python"
    }
  },
  "cells": [
    {
      "cell_type": "markdown",
      "source": [
        "A **path** in a binary tree is a sequence of nodes where each pair of adjacent nodes in the sequence has an edge connecting them. A node can only appear in the sequence **at most once**. Note that the path does not need to pass through the root.\n",
        "\n",
        "The **path sum** of a path is the sum of the node's values in the path.\n",
        "\n",
        "Given the `root` of a binary tree, return *the maximum **path sum** of any **non-empty** path*. \n",
        "\n",
        "**Example 1:**\n",
        "\n",
        "<img src=\"https://assets.leetcode.com/uploads/2020/10/13/exx1.jpg\">\n",
        "\n",
        "Input: `root = [1,2,3]`\n",
        "\n",
        "Output: `6`\n",
        "\n",
        "Explanation: `The optimal path is 2 -> 1 -> 3 with a path sum of 2 + 1 + 3 = 6.`\n",
        "\n",
        "**Example 2:**\n",
        "\n",
        "<img src=\"https://assets.leetcode.com/uploads/2020/10/13/exx2.jpg\">\n",
        "\n",
        "Input: `root = [-10,9,20,null,null,15,7]`\n",
        "\n",
        "Output: `42`\n",
        "\n",
        "Explanation: `The optimal path is 15 -> 20 -> 7 with a path sum of 15 + 20 + 7 = 42.` \n",
        "\n",
        "**Constraints:**\n",
        "\n",
        "*   The number of nodes in the tree is in the range [1, 3 * $10^{4}$].\n",
        "*   `-1000 <= Node.val <= 1000`\n",
        "\n"
      ],
      "metadata": {
        "id": "_XwhqVERalg8"
      }
    },
    {
      "cell_type": "code",
      "source": [
        "# Definition for a binary tree node.\n",
        "\n",
        "class TreeNode:\n",
        "  def __init__(self, val=0, left=None, right=None):\n",
        "    self.val = val\n",
        "    self.left = left\n",
        "    self.right = right"
      ],
      "metadata": {
        "id": "4wJmJ3SZb_35"
      },
      "execution_count": 1,
      "outputs": []
    },
    {
      "cell_type": "code",
      "source": [
        "from typing import Optional"
      ],
      "metadata": {
        "id": "143RcbDz8v8_"
      },
      "execution_count": 2,
      "outputs": []
    },
    {
      "cell_type": "code",
      "source": [
        "class Solution:\n",
        "  \n",
        "  answer = -float(\"inf\")\n",
        "  \n",
        "  def maxPathSum(self, root: Optional[TreeNode]) -> int:\n",
        "    self.dfs(root)\n",
        "    return self.answer\n",
        "  \n",
        "  def dfs(self,node):\n",
        "    if node is None:\n",
        "      return 0\n",
        "        \n",
        "    left = self.dfs(node.left) \n",
        "    right = self.dfs(node.right)\n",
        "        \n",
        "    left = max(left, 0)\n",
        "    right = max(right, 0)\n",
        "        \n",
        "    self.answer = max(self.answer, node.val+left+right)\n",
        "        \n",
        "    return node.val + max(left, right)"
      ],
      "metadata": {
        "id": "VQcCzxPK8jQF"
      },
      "execution_count": 3,
      "outputs": []
    }
  ]
}