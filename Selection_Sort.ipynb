{
  "nbformat": 4,
  "nbformat_minor": 0,
  "metadata": {
    "colab": {
      "provenance": []
    },
    "kernelspec": {
      "name": "python3",
      "display_name": "Python 3"
    },
    "language_info": {
      "name": "python"
    }
  },
  "cells": [
    {
      "cell_type": "code",
      "execution_count": 1,
      "metadata": {
        "id": "qkVugrYJbZlI"
      },
      "outputs": [],
      "source": [
        "class SortingAlgorithms:\n",
        "\n",
        "  def selectionSort(self, arr):\n",
        "    for i in range(len(arr) - 1):\n",
        "      print(i)"
      ]
    },
    {
      "cell_type": "code",
      "source": [
        "sorting = SortingAlgorithms()"
      ],
      "metadata": {
        "id": "qS0JqLdqb-Vb"
      },
      "execution_count": 2,
      "outputs": []
    },
    {
      "cell_type": "code",
      "source": [
        "sorting.selectionSort([5, 1, 3, 4, 2, 8, 6, 10])"
      ],
      "metadata": {
        "colab": {
          "base_uri": "https://localhost:8080/"
        },
        "id": "iLGzvliXcCVA",
        "outputId": "b461e31f-25c0-4c79-c643-5578af14a14a"
      },
      "execution_count": 4,
      "outputs": [
        {
          "output_type": "stream",
          "name": "stdout",
          "text": [
            "0\n",
            "1\n",
            "2\n",
            "3\n",
            "4\n",
            "5\n",
            "6\n"
          ]
        }
      ]
    },
    {
      "cell_type": "code",
      "source": [
        "class SortingAlgorithms:\n",
        "\n",
        "  def selectionSort(self, arr):\n",
        "    for i in range(len(arr) - 1):\n",
        "      minIndex = i\n",
        "      for j in range(i+1, len(arr)):\n",
        "        minIndex = j\n",
        "        print(minIndex)"
      ],
      "metadata": {
        "id": "o6rtvo-TcWWB"
      },
      "execution_count": 5,
      "outputs": []
    },
    {
      "cell_type": "code",
      "source": [
        "sorting = SortingAlgorithms()"
      ],
      "metadata": {
        "id": "XuuhWHGzdbWl"
      },
      "execution_count": 6,
      "outputs": []
    },
    {
      "cell_type": "code",
      "source": [
        "sorting.selectionSort([5, 1, 3, 4, 2, 8, 6, 10])"
      ],
      "metadata": {
        "colab": {
          "base_uri": "https://localhost:8080/"
        },
        "id": "RzZhXTmidfOq",
        "outputId": "ed9eff49-5d5f-4095-fb37-2a2d52890add"
      },
      "execution_count": 7,
      "outputs": [
        {
          "output_type": "stream",
          "name": "stdout",
          "text": [
            "1\n",
            "2\n",
            "3\n",
            "4\n",
            "5\n",
            "6\n",
            "7\n",
            "2\n",
            "3\n",
            "4\n",
            "5\n",
            "6\n",
            "7\n",
            "3\n",
            "4\n",
            "5\n",
            "6\n",
            "7\n",
            "4\n",
            "5\n",
            "6\n",
            "7\n",
            "5\n",
            "6\n",
            "7\n",
            "6\n",
            "7\n",
            "7\n"
          ]
        }
      ]
    },
    {
      "cell_type": "code",
      "source": [
        "class SortingAlgorithms:\n",
        "\n",
        "  def selectionSort(self, arr):\n",
        "    for i in range(len(arr) - 1):\n",
        "      minIndex = i\n",
        "      for j in range(i+1, len(arr)):\n",
        "        minIndex = j\n",
        "      print(i)\n",
        "      print(j)\n",
        "      if i != minIndex:\n",
        "        pass"
      ],
      "metadata": {
        "id": "OKoH5tCEd44H"
      },
      "execution_count": 8,
      "outputs": []
    },
    {
      "cell_type": "code",
      "source": [
        "sorting = SortingAlgorithms()"
      ],
      "metadata": {
        "id": "X6X3eg43eBfT"
      },
      "execution_count": 9,
      "outputs": []
    },
    {
      "cell_type": "code",
      "source": [
        "sorting.selectionSort([5, 1, 3, 4, 2, 8, 6, 10])"
      ],
      "metadata": {
        "colab": {
          "base_uri": "https://localhost:8080/"
        },
        "id": "SvwZ9o2keDLl",
        "outputId": "ae8852f1-be30-4469-8ae9-173dc9e9c128"
      },
      "execution_count": 10,
      "outputs": [
        {
          "output_type": "stream",
          "name": "stdout",
          "text": [
            "0\n",
            "7\n",
            "1\n",
            "7\n",
            "2\n",
            "7\n",
            "3\n",
            "7\n",
            "4\n",
            "7\n",
            "5\n",
            "7\n",
            "6\n",
            "7\n"
          ]
        }
      ]
    },
    {
      "cell_type": "code",
      "source": [
        "class SortingAlgorithms:\n",
        "\n",
        "  def selectionSort(self, arr):\n",
        "    for i in range(len(arr) - 1):\n",
        "      minIndex = i\n",
        "      for j in range(i+1, len(arr)):\n",
        "        if arr[j] < arr[minIndex]:\n",
        "          minIndex = j\n",
        "      if i != minIndex:\n",
        "        arr[i], arr[minIndex] = arr[minIndex], arr[i]\n",
        "    return arr"
      ],
      "metadata": {
        "id": "98Y9U3E-e7c_"
      },
      "execution_count": 14,
      "outputs": []
    },
    {
      "cell_type": "code",
      "source": [
        "sorting = SortingAlgorithms()"
      ],
      "metadata": {
        "id": "y6o7vX2RfWdE"
      },
      "execution_count": 15,
      "outputs": []
    },
    {
      "cell_type": "code",
      "source": [
        "sorting.selectionSort([5, 1, 3, 4, 2, 8, 6, 10])"
      ],
      "metadata": {
        "colab": {
          "base_uri": "https://localhost:8080/"
        },
        "id": "y6V3ahSMfYrQ",
        "outputId": "ff06089d-8d9f-45cd-ef62-b572643ad8cf"
      },
      "execution_count": 16,
      "outputs": [
        {
          "output_type": "execute_result",
          "data": {
            "text/plain": [
              "[1, 2, 3, 4, 5, 6, 8, 10]"
            ]
          },
          "metadata": {},
          "execution_count": 16
        }
      ]
    }
  ]
}