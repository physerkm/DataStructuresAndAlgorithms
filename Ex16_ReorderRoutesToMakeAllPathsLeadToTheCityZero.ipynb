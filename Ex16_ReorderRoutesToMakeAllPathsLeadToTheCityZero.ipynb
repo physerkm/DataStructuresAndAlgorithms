{
  "nbformat": 4,
  "nbformat_minor": 0,
  "metadata": {
    "colab": {
      "provenance": []
    },
    "kernelspec": {
      "name": "python3",
      "display_name": "Python 3"
    },
    "language_info": {
      "name": "python"
    }
  },
  "cells": [
    {
      "cell_type": "markdown",
      "source": [
        "There are `n` cities numbered from `0` to `n - 1` and `n - 1` roads such that there is only one way to travel between two different cities (this network form a tree). Last year, The ministry of transport decided to orient the roads in one direction because they are too narrow.\n",
        "\n",
        "Roads are represented by `connections` where `connections[i] = [ai, bi]` represents a road from city `ai` to city `bi`.\n",
        "\n",
        "This year, there will be a big event in the capital (city `0`), and many people want to travel to this city.\n",
        "\n",
        "Your task consists of reorienting some roads such that each city can visit the city `0`. Return the **minimum** number of edges changed.\n",
        "\n",
        "It's **guaranteed** that each city can reach city `0` after reorder. \n",
        "\n",
        "**Example 1:**\n",
        "\n",
        "<img src=\"https://assets.leetcode.com/uploads/2020/05/13/sample_1_1819.png\">\n",
        "\n",
        "Input: `n = 6, connections = [[0,1],[1,3],[2,3],[4,0],[4,5]]`\n",
        "\n",
        "Output: `3`\n",
        "\n",
        "Explanation: `Change the direction of edges show in red such that each node can reach the node 0 (capital).`\n",
        "\n",
        "**Example 2:**\n",
        "\n",
        "<img src=\"https://assets.leetcode.com/uploads/2020/05/13/sample_2_1819.png\">\n",
        "\n",
        "Input: `n = 5, connections = [[1,0],[1,2],[3,2],[3,4]]`\n",
        "\n",
        "Output: `2`\n",
        "\n",
        "Explanation: `Change the direction of edges show in red such that each node can reach the node 0 (capital).`\n",
        "\n",
        "**Example 3:**\n",
        "\n",
        "Input: `n = 3, connections = [[1,0],[2,0]]`\n",
        "\n",
        "Output: `0`\n",
        " \n",
        "\n",
        "**Constraints:**\n",
        "\n",
        "*   2 <= n <= 5 * $10^{4}$\n",
        "*   `connections.length == n - 1`\n",
        "*   `connections[i].length == 2`\n",
        "*   `0 <= ai, bi <= n - 1`\n",
        "*   `ai != bi`"
      ],
      "metadata": {
        "id": "oLjgmfDmFdeU"
      }
    },
    {
      "cell_type": "code",
      "source": [
        "class Solution():\n",
        "  def minReorder(self, n, connections) -> int:\n",
        "    edges = set()\n",
        "\n",
        "    for a,b in connections:\n",
        "      edges.add((a,b))\n",
        "\n",
        "    neighbours = {}\n",
        "\n",
        "    for city in range(n):\n",
        "      neighbours[city] = []\n",
        "\n",
        "    for a,b in connections:\n",
        "      neighbours[a].append(b)\n",
        "      neighbours[b].append(a)\n",
        "\n",
        "    visited = set()\n",
        "\n",
        "    counter = 0\n",
        "\n",
        "    def dfs(city):\n",
        "      nonlocal edges, neighbours, visited, counter\n",
        "      for neighbour in neighbours[city]:\n",
        "        if neighbour in visited:\n",
        "          continue\n",
        "        if (neighbour, city) not in edges:\n",
        "          counter = counter + 1\n",
        "        visited.add(neighbour)\n",
        "        dfs(neighbour) \n",
        "\n",
        "    visited.add(0)\n",
        "    dfs(0)\n",
        "    return counter"
      ],
      "metadata": {
        "id": "k_Cl4ioYH8eS"
      },
      "execution_count": 1,
      "outputs": []
    },
    {
      "cell_type": "code",
      "source": [
        "# n = 6, connections = [[0,1],[1,3],[2,3],[4,0],[4,5]]\n",
        "# n = 5, connections = [[1,0],[1,2],[3,2],[3,4]]\n",
        "# n = 3, connections = [[1,0],[2,0]]"
      ],
      "metadata": {
        "id": "iFsF9IXQco0f"
      },
      "execution_count": 2,
      "outputs": []
    },
    {
      "cell_type": "code",
      "source": [
        "[0,1] in [[0,1],[1,3],[2,3],[4,0],[4,5]]  # O(N)"
      ],
      "metadata": {
        "colab": {
          "base_uri": "https://localhost:8080/"
        },
        "id": "sHjQ0uqic2zm",
        "outputId": "cb36a51d-c44a-4d57-e173-260afa1b84e5"
      },
      "execution_count": 3,
      "outputs": [
        {
          "output_type": "execute_result",
          "data": {
            "text/plain": [
              "True"
            ]
          },
          "metadata": {},
          "execution_count": 3
        }
      ]
    },
    {
      "cell_type": "code",
      "source": [
        "(0,1) in {(0,1),(1,3),(2,3),(4,0),(4,5)} # O(1)"
      ],
      "metadata": {
        "colab": {
          "base_uri": "https://localhost:8080/"
        },
        "id": "7IoGxYGzdHHe",
        "outputId": "5f834c56-81a1-49ba-8256-25715afd497e"
      },
      "execution_count": 4,
      "outputs": [
        {
          "output_type": "execute_result",
          "data": {
            "text/plain": [
              "True"
            ]
          },
          "metadata": {},
          "execution_count": 4
        }
      ]
    },
    {
      "cell_type": "code",
      "source": [
        "s = Solution()"
      ],
      "metadata": {
        "id": "3WlbiTnRljak"
      },
      "execution_count": 5,
      "outputs": []
    },
    {
      "cell_type": "code",
      "source": [
        "s.minReorder(6, [[0,1],[1,3],[2,3],[4,0],[4,5]])"
      ],
      "metadata": {
        "colab": {
          "base_uri": "https://localhost:8080/"
        },
        "id": "Ab2dDA-blqaq",
        "outputId": "345503b4-ff4b-4384-fc34-fca4f8b8e0ac"
      },
      "execution_count": 6,
      "outputs": [
        {
          "output_type": "execute_result",
          "data": {
            "text/plain": [
              "3"
            ]
          },
          "metadata": {},
          "execution_count": 6
        }
      ]
    },
    {
      "cell_type": "code",
      "source": [
        "s.minReorder(5, [[1,0],[1,2],[3,2],[3,4]])"
      ],
      "metadata": {
        "colab": {
          "base_uri": "https://localhost:8080/"
        },
        "id": "Vsx5ZE-1l3mC",
        "outputId": "56770113-8464-46d2-d94e-aea89e6f4209"
      },
      "execution_count": 7,
      "outputs": [
        {
          "output_type": "execute_result",
          "data": {
            "text/plain": [
              "2"
            ]
          },
          "metadata": {},
          "execution_count": 7
        }
      ]
    },
    {
      "cell_type": "code",
      "source": [
        "s.minReorder(3, [[1,0],[2,0]])"
      ],
      "metadata": {
        "colab": {
          "base_uri": "https://localhost:8080/"
        },
        "id": "rBMwviUzmPU9",
        "outputId": "cdec3750-5819-4c72-d2dd-208dabb6ea73"
      },
      "execution_count": 8,
      "outputs": [
        {
          "output_type": "execute_result",
          "data": {
            "text/plain": [
              "0"
            ]
          },
          "metadata": {},
          "execution_count": 8
        }
      ]
    }
  ]
}