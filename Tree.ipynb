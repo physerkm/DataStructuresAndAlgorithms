{
  "nbformat": 4,
  "nbformat_minor": 0,
  "metadata": {
    "colab": {
      "provenance": []
    },
    "kernelspec": {
      "name": "python3",
      "display_name": "Python 3"
    },
    "language_info": {
      "name": "python"
    }
  },
  "cells": [
    {
      "cell_type": "code",
      "execution_count": 17,
      "metadata": {
        "id": "QJKcJj7Pug5S"
      },
      "outputs": [],
      "source": [
        "class Node():\n",
        "\n",
        "  def __init__(self, value):\n",
        "\n",
        "    self.value = value\n",
        "    self.left = None\n",
        "    self.right = None"
      ]
    },
    {
      "cell_type": "code",
      "source": [
        "class BinarySearchTree:\n",
        "\n",
        "  def __init__(self):\n",
        "\n",
        "    self.root = None\n",
        "\n",
        "  def insert(self, value):\n",
        "\n",
        "    newNode = Node(value)\n",
        "\n",
        "    if self.root is None:\n",
        "\n",
        "      self.root = newNode\n",
        "      return True\n",
        "\n",
        "    tempNode = self.root    \n",
        "\n",
        "    while True:\n",
        "\n",
        "      if newNode.value == tempNode.value:\n",
        "        return False\n",
        "\n",
        "      if newNode.value < tempNode.value:\n",
        "        if tempNode.left is None:\n",
        "          tempNode.left = newNode\n",
        "          return True\n",
        "        tempNode = tempNode.left\n",
        "\n",
        "      else:\n",
        "        if tempNode.right is None:\n",
        "          tempNode.right = newNode\n",
        "          return True\n",
        "        tempNode = tempNode.right\n",
        "\n",
        "  def contains(self, value):\n",
        "\n",
        "    tempNode = self.root \n",
        "\n",
        "    while tempNode:\n",
        "      if value < tempNode.value:\n",
        "        tempNode = tempNode.left\n",
        "      elif value > tempNode.value:\n",
        "        tempNode = tempNode.right\n",
        "      else:\n",
        "        return True\n",
        "    return False\n",
        "\n",
        "  def minOfNode(self, currentNode):\n",
        "    while currentNode.left:\n",
        "      currentNode = currentNode.left\n",
        "    return currentNode\n",
        "  \n",
        "  def maxOfNode(self, currentNode):\n",
        "    while currentNode.right:\n",
        "      currentNode = currentNode.right\n",
        "    return currentNode"
      ],
      "metadata": {
        "id": "wMdaeFMsvIqU"
      },
      "execution_count": 18,
      "outputs": []
    },
    {
      "cell_type": "code",
      "source": [
        "myTree = BinarySearchTree()"
      ],
      "metadata": {
        "id": "3LvLCxU0z4uP"
      },
      "execution_count": 19,
      "outputs": []
    },
    {
      "cell_type": "code",
      "source": [
        "myTree.insert(10)"
      ],
      "metadata": {
        "colab": {
          "base_uri": "https://localhost:8080/"
        },
        "id": "cN5ggCf6z-3d",
        "outputId": "619ef300-8aa1-4872-fddb-8d732a35da36"
      },
      "execution_count": 20,
      "outputs": [
        {
          "output_type": "execute_result",
          "data": {
            "text/plain": [
              "True"
            ]
          },
          "metadata": {},
          "execution_count": 20
        }
      ]
    },
    {
      "cell_type": "code",
      "source": [
        "myTree.insert(10)"
      ],
      "metadata": {
        "colab": {
          "base_uri": "https://localhost:8080/"
        },
        "id": "Vb5inVC90EX9",
        "outputId": "6f369d22-e321-4f08-c89c-c515dbe3f9f5"
      },
      "execution_count": 21,
      "outputs": [
        {
          "output_type": "execute_result",
          "data": {
            "text/plain": [
              "False"
            ]
          },
          "metadata": {},
          "execution_count": 21
        }
      ]
    },
    {
      "cell_type": "code",
      "source": [
        "myTree.insert(9)"
      ],
      "metadata": {
        "colab": {
          "base_uri": "https://localhost:8080/"
        },
        "id": "HrXYJZ8B0Lru",
        "outputId": "4a4a6852-a19f-488a-ad1f-479dbb18946d"
      },
      "execution_count": 22,
      "outputs": [
        {
          "output_type": "execute_result",
          "data": {
            "text/plain": [
              "True"
            ]
          },
          "metadata": {},
          "execution_count": 22
        }
      ]
    },
    {
      "cell_type": "code",
      "source": [
        "myTree.insert(15)"
      ],
      "metadata": {
        "colab": {
          "base_uri": "https://localhost:8080/"
        },
        "id": "oSQpd4nB0Q-B",
        "outputId": "0e094d71-9693-4720-c2e4-334cac268771"
      },
      "execution_count": 23,
      "outputs": [
        {
          "output_type": "execute_result",
          "data": {
            "text/plain": [
              "True"
            ]
          },
          "metadata": {},
          "execution_count": 23
        }
      ]
    },
    {
      "cell_type": "code",
      "source": [
        "myTree.insert(19)"
      ],
      "metadata": {
        "colab": {
          "base_uri": "https://localhost:8080/"
        },
        "id": "DbhEfRAY5oNM",
        "outputId": "a3df0f6c-3b59-4ab0-837f-62d53f054220"
      },
      "execution_count": 24,
      "outputs": [
        {
          "output_type": "execute_result",
          "data": {
            "text/plain": [
              "True"
            ]
          },
          "metadata": {},
          "execution_count": 24
        }
      ]
    },
    {
      "cell_type": "code",
      "source": [
        "myTree.insert(13)"
      ],
      "metadata": {
        "colab": {
          "base_uri": "https://localhost:8080/"
        },
        "id": "D6lslZ_s5wDt",
        "outputId": "eeba21ca-409a-4874-fb24-6e1962ab56e5"
      },
      "execution_count": 25,
      "outputs": [
        {
          "output_type": "execute_result",
          "data": {
            "text/plain": [
              "True"
            ]
          },
          "metadata": {},
          "execution_count": 25
        }
      ]
    },
    {
      "cell_type": "code",
      "source": [
        "myTree.contains(13)"
      ],
      "metadata": {
        "colab": {
          "base_uri": "https://localhost:8080/"
        },
        "id": "xDLwnv29329b",
        "outputId": "b7835b08-cbb9-4094-d7ad-c5644ccba955"
      },
      "execution_count": 26,
      "outputs": [
        {
          "output_type": "execute_result",
          "data": {
            "text/plain": [
              "True"
            ]
          },
          "metadata": {},
          "execution_count": 26
        }
      ]
    },
    {
      "cell_type": "code",
      "source": [
        "myTree.contains(19)"
      ],
      "metadata": {
        "colab": {
          "base_uri": "https://localhost:8080/"
        },
        "id": "XbPhot9G39bC",
        "outputId": "02263991-40b8-4d66-e11b-a0f66a539148"
      },
      "execution_count": 27,
      "outputs": [
        {
          "output_type": "execute_result",
          "data": {
            "text/plain": [
              "True"
            ]
          },
          "metadata": {},
          "execution_count": 27
        }
      ]
    },
    {
      "cell_type": "code",
      "source": [
        "myTree.contains(23)"
      ],
      "metadata": {
        "colab": {
          "base_uri": "https://localhost:8080/"
        },
        "id": "PCZJxT2w59se",
        "outputId": "b63bae55-f625-4fcd-b286-abadb33fdc66"
      },
      "execution_count": 29,
      "outputs": [
        {
          "output_type": "execute_result",
          "data": {
            "text/plain": [
              "False"
            ]
          },
          "metadata": {},
          "execution_count": 29
        }
      ]
    },
    {
      "cell_type": "code",
      "source": [
        "myTree.root.value"
      ],
      "metadata": {
        "colab": {
          "base_uri": "https://localhost:8080/"
        },
        "id": "XOjStBYH6Ig3",
        "outputId": "f71189cd-5a78-4fcc-fd06-2bf96ea8da35"
      },
      "execution_count": 30,
      "outputs": [
        {
          "output_type": "execute_result",
          "data": {
            "text/plain": [
              "10"
            ]
          },
          "metadata": {},
          "execution_count": 30
        }
      ]
    },
    {
      "cell_type": "code",
      "source": [
        "myTree.root"
      ],
      "metadata": {
        "colab": {
          "base_uri": "https://localhost:8080/"
        },
        "id": "c2Qllx8X6ORc",
        "outputId": "b407fd9c-5e43-487b-9740-afcf2271425e"
      },
      "execution_count": 31,
      "outputs": [
        {
          "output_type": "execute_result",
          "data": {
            "text/plain": [
              "<__main__.Node at 0x7f8c2aaa57b0>"
            ]
          },
          "metadata": {},
          "execution_count": 31
        }
      ]
    },
    {
      "cell_type": "code",
      "source": [
        "myTree.root.right.value"
      ],
      "metadata": {
        "colab": {
          "base_uri": "https://localhost:8080/"
        },
        "id": "Kr7-4tqx6Vqj",
        "outputId": "c0eaf160-1892-47e8-eb2f-d4a9e68e77cf"
      },
      "execution_count": 32,
      "outputs": [
        {
          "output_type": "execute_result",
          "data": {
            "text/plain": [
              "15"
            ]
          },
          "metadata": {},
          "execution_count": 32
        }
      ]
    },
    {
      "cell_type": "code",
      "source": [
        "myTree.root.right.right.value"
      ],
      "metadata": {
        "colab": {
          "base_uri": "https://localhost:8080/"
        },
        "id": "OmhHc8ZS6fpJ",
        "outputId": "26adffe8-4b25-4f4c-ab6e-bfdcdef44ead"
      },
      "execution_count": 33,
      "outputs": [
        {
          "output_type": "execute_result",
          "data": {
            "text/plain": [
              "19"
            ]
          },
          "metadata": {},
          "execution_count": 33
        }
      ]
    },
    {
      "cell_type": "code",
      "source": [
        "myTree.root.left.value"
      ],
      "metadata": {
        "colab": {
          "base_uri": "https://localhost:8080/"
        },
        "id": "4bga2AVt6oSu",
        "outputId": "77fc08e9-56da-492f-a5be-b1771e0c3cd0"
      },
      "execution_count": 35,
      "outputs": [
        {
          "output_type": "execute_result",
          "data": {
            "text/plain": [
              "9"
            ]
          },
          "metadata": {},
          "execution_count": 35
        }
      ]
    },
    {
      "cell_type": "code",
      "source": [
        "myTree.minOfNode(myTree.root).value"
      ],
      "metadata": {
        "colab": {
          "base_uri": "https://localhost:8080/"
        },
        "id": "Dff_dlUA6xj_",
        "outputId": "3b1fd592-468b-4224-e732-30fa1f430065"
      },
      "execution_count": 36,
      "outputs": [
        {
          "output_type": "execute_result",
          "data": {
            "text/plain": [
              "9"
            ]
          },
          "metadata": {},
          "execution_count": 36
        }
      ]
    },
    {
      "cell_type": "code",
      "source": [
        "myTree.maxOfNode(myTree.root).value"
      ],
      "metadata": {
        "colab": {
          "base_uri": "https://localhost:8080/"
        },
        "id": "80jrKNYV6_ZX",
        "outputId": "272739b2-0162-4030-e7e8-f1d158852736"
      },
      "execution_count": 37,
      "outputs": [
        {
          "output_type": "execute_result",
          "data": {
            "text/plain": [
              "19"
            ]
          },
          "metadata": {},
          "execution_count": 37
        }
      ]
    }
  ]
}