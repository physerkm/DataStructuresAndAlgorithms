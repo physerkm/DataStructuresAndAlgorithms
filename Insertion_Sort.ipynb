{
  "nbformat": 4,
  "nbformat_minor": 0,
  "metadata": {
    "colab": {
      "provenance": []
    },
    "kernelspec": {
      "name": "python3",
      "display_name": "Python 3"
    },
    "language_info": {
      "name": "python"
    }
  },
  "cells": [
    {
      "cell_type": "code",
      "execution_count": 1,
      "metadata": {
        "id": "cVfjjkRM3_gd"
      },
      "outputs": [],
      "source": [
        "class SortingAlgorithms:\n",
        "\n",
        "  def insertionSort(self, arr):\n",
        "    for i in range(1, len(arr)):\n",
        "      temp = arr[i]\n",
        "      j = i - 1\n",
        "      while temp < arr[j] and j > -1:\n",
        "        arr[j+1] = arr[j]\n",
        "        arr[j] = temp\n",
        "        j = j - 1\n",
        "    return arr"
      ]
    },
    {
      "cell_type": "code",
      "source": [
        "sorting = SortingAlgorithms()"
      ],
      "metadata": {
        "id": "2a6pb5PH5S33"
      },
      "execution_count": 2,
      "outputs": []
    },
    {
      "cell_type": "code",
      "source": [
        "sorting.insertionSort([5, 1, 3, 4, 2, 8, 6, 10])"
      ],
      "metadata": {
        "colab": {
          "base_uri": "https://localhost:8080/"
        },
        "id": "owL2z2Yc5V7O",
        "outputId": "e6618262-2c62-44a6-90eb-f7065db9a2d2"
      },
      "execution_count": 3,
      "outputs": [
        {
          "output_type": "execute_result",
          "data": {
            "text/plain": [
              "[1, 2, 3, 4, 5, 6, 8, 10]"
            ]
          },
          "metadata": {},
          "execution_count": 3
        }
      ]
    }
  ]
}