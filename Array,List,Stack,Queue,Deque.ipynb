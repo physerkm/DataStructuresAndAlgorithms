{
  "nbformat": 4,
  "nbformat_minor": 0,
  "metadata": {
    "colab": {
      "provenance": []
    },
    "kernelspec": {
      "name": "python3",
      "display_name": "Python 3"
    },
    "language_info": {
      "name": "python"
    }
  },
  "cells": [
    {
      "cell_type": "code",
      "execution_count": 1,
      "metadata": {
        "id": "ODINUh-hYJ1p"
      },
      "outputs": [],
      "source": [
        "# Array, List, Stack, Queue, Deque"
      ]
    },
    {
      "cell_type": "code",
      "source": [
        "# List\n",
        "myList = [5, 10, 15, 20, 25]"
      ],
      "metadata": {
        "id": "c66sJbuVZb52"
      },
      "execution_count": 2,
      "outputs": []
    },
    {
      "cell_type": "code",
      "source": [
        "type(myList)"
      ],
      "metadata": {
        "colab": {
          "base_uri": "https://localhost:8080/"
        },
        "id": "nxxPtrlIZnhN",
        "outputId": "cc9cceb3-923a-4b9e-9a55-cb6fc5cf7816"
      },
      "execution_count": 3,
      "outputs": [
        {
          "output_type": "execute_result",
          "data": {
            "text/plain": [
              "list"
            ]
          },
          "metadata": {},
          "execution_count": 3
        }
      ]
    },
    {
      "cell_type": "code",
      "source": [
        "myList2 = []\n",
        "myList2.append(7)"
      ],
      "metadata": {
        "id": "J6z_WQJ1ZsBQ"
      },
      "execution_count": 4,
      "outputs": []
    },
    {
      "cell_type": "code",
      "source": [
        "import array as arr\n",
        "\n",
        "myArr = arr.array(\"i\", [1, 2, 3, 4, 5])"
      ],
      "metadata": {
        "id": "-2_WXYALaX0Y"
      },
      "execution_count": 5,
      "outputs": []
    },
    {
      "cell_type": "code",
      "source": [
        "myArr.append(6)\n",
        "myArr"
      ],
      "metadata": {
        "colab": {
          "base_uri": "https://localhost:8080/"
        },
        "id": "1sJmEZ0Ga1q8",
        "outputId": "dc1b070b-b43f-4a75-846c-a113e7bd2a17"
      },
      "execution_count": 6,
      "outputs": [
        {
          "output_type": "execute_result",
          "data": {
            "text/plain": [
              "array('i', [1, 2, 3, 4, 5, 6])"
            ]
          },
          "metadata": {},
          "execution_count": 6
        }
      ]
    },
    {
      "cell_type": "code",
      "source": [
        "myList = [2, 4, 6, 8, 10]"
      ],
      "metadata": {
        "id": "kagb92Jon7ZG"
      },
      "execution_count": 7,
      "outputs": []
    },
    {
      "cell_type": "code",
      "source": [
        "otherList = [12, 14, 16]"
      ],
      "metadata": {
        "id": "QgI9n1ZEoE1X"
      },
      "execution_count": 8,
      "outputs": []
    },
    {
      "cell_type": "code",
      "source": [
        "myList.extend(otherList)"
      ],
      "metadata": {
        "id": "66lK2R4woWSr"
      },
      "execution_count": 9,
      "outputs": []
    },
    {
      "cell_type": "code",
      "source": [
        "myList"
      ],
      "metadata": {
        "colab": {
          "base_uri": "https://localhost:8080/"
        },
        "id": "tZg22IE2ocYL",
        "outputId": "29be0926-f826-42ed-dabb-97008e8f53af"
      },
      "execution_count": 10,
      "outputs": [
        {
          "output_type": "execute_result",
          "data": {
            "text/plain": [
              "[2, 4, 6, 8, 10, 12, 14, 16]"
            ]
          },
          "metadata": {},
          "execution_count": 10
        }
      ]
    },
    {
      "cell_type": "code",
      "source": [
        "result = [1] * 5"
      ],
      "metadata": {
        "id": "-wkZwfN_pPsk"
      },
      "execution_count": 11,
      "outputs": []
    },
    {
      "cell_type": "code",
      "source": [
        "result"
      ],
      "metadata": {
        "colab": {
          "base_uri": "https://localhost:8080/"
        },
        "id": "Enzm5BvFpYHU",
        "outputId": "10e9cf4e-c70c-4d1e-fe6f-a54510b3d18f"
      },
      "execution_count": 12,
      "outputs": [
        {
          "output_type": "execute_result",
          "data": {
            "text/plain": [
              "[1, 1, 1, 1, 1]"
            ]
          },
          "metadata": {},
          "execution_count": 12
        }
      ]
    },
    {
      "cell_type": "code",
      "source": [
        "type(result)"
      ],
      "metadata": {
        "colab": {
          "base_uri": "https://localhost:8080/"
        },
        "id": "X00dH3dmpa2S",
        "outputId": "dee1ab3d-563d-423d-ffa5-3b300537f40c"
      },
      "execution_count": 13,
      "outputs": [
        {
          "output_type": "execute_result",
          "data": {
            "text/plain": [
              "list"
            ]
          },
          "metadata": {},
          "execution_count": 13
        }
      ]
    },
    {
      "cell_type": "code",
      "source": [
        "result[4] = 5"
      ],
      "metadata": {
        "id": "IkptpcZNs9dI"
      },
      "execution_count": 14,
      "outputs": []
    },
    {
      "cell_type": "code",
      "source": [
        "result"
      ],
      "metadata": {
        "colab": {
          "base_uri": "https://localhost:8080/"
        },
        "id": "GK9Fz5khtDPx",
        "outputId": "5b5900d2-1749-492e-81a0-25304ff81665"
      },
      "execution_count": 15,
      "outputs": [
        {
          "output_type": "execute_result",
          "data": {
            "text/plain": [
              "[1, 1, 1, 1, 5]"
            ]
          },
          "metadata": {},
          "execution_count": 15
        }
      ]
    },
    {
      "cell_type": "code",
      "source": [
        "import sys"
      ],
      "metadata": {
        "id": "6Wlvh68PtoFY"
      },
      "execution_count": 16,
      "outputs": []
    },
    {
      "cell_type": "code",
      "source": [
        "n = 40\n",
        "myDynamicArray = []\n",
        "\n",
        "for i in range(0, n):\n",
        "\n",
        "  myLenght = len(myDynamicArray)\n",
        "  myByte = sys.getsizeof(myDynamicArray)\n",
        "  print(f\"Lenght: {myLenght} Byte: {myByte}\")\n",
        "  myDynamicArray.append(n)\n"
      ],
      "metadata": {
        "colab": {
          "base_uri": "https://localhost:8080/"
        },
        "id": "oYoU_NVpt3nu",
        "outputId": "739d329b-207c-40d3-a3fd-b9e2949daeb7"
      },
      "execution_count": 19,
      "outputs": [
        {
          "output_type": "stream",
          "name": "stdout",
          "text": [
            "Lenght: 0 Byte: 56\n",
            "Lenght: 1 Byte: 88\n",
            "Lenght: 2 Byte: 88\n",
            "Lenght: 3 Byte: 88\n",
            "Lenght: 4 Byte: 88\n",
            "Lenght: 5 Byte: 120\n",
            "Lenght: 6 Byte: 120\n",
            "Lenght: 7 Byte: 120\n",
            "Lenght: 8 Byte: 120\n",
            "Lenght: 9 Byte: 184\n",
            "Lenght: 10 Byte: 184\n",
            "Lenght: 11 Byte: 184\n",
            "Lenght: 12 Byte: 184\n",
            "Lenght: 13 Byte: 184\n",
            "Lenght: 14 Byte: 184\n",
            "Lenght: 15 Byte: 184\n",
            "Lenght: 16 Byte: 184\n",
            "Lenght: 17 Byte: 248\n",
            "Lenght: 18 Byte: 248\n",
            "Lenght: 19 Byte: 248\n",
            "Lenght: 20 Byte: 248\n",
            "Lenght: 21 Byte: 248\n",
            "Lenght: 22 Byte: 248\n",
            "Lenght: 23 Byte: 248\n",
            "Lenght: 24 Byte: 248\n",
            "Lenght: 25 Byte: 312\n",
            "Lenght: 26 Byte: 312\n",
            "Lenght: 27 Byte: 312\n",
            "Lenght: 28 Byte: 312\n",
            "Lenght: 29 Byte: 312\n",
            "Lenght: 30 Byte: 312\n",
            "Lenght: 31 Byte: 312\n",
            "Lenght: 32 Byte: 312\n",
            "Lenght: 33 Byte: 376\n",
            "Lenght: 34 Byte: 376\n",
            "Lenght: 35 Byte: 376\n",
            "Lenght: 36 Byte: 376\n",
            "Lenght: 37 Byte: 376\n",
            "Lenght: 38 Byte: 376\n",
            "Lenght: 39 Byte: 376\n"
          ]
        }
      ]
    }
  ]
}