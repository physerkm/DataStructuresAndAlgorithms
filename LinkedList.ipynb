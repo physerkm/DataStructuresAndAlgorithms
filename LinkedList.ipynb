{
  "nbformat": 4,
  "nbformat_minor": 0,
  "metadata": {
    "colab": {
      "provenance": []
    },
    "kernelspec": {
      "name": "python3",
      "display_name": "Python 3"
    },
    "language_info": {
      "name": "python"
    }
  },
  "cells": [
    {
      "cell_type": "code",
      "execution_count": 1,
      "metadata": {
        "id": "VjliBbu1q5_p"
      },
      "outputs": [],
      "source": [
        "# Node -> Linked List"
      ]
    },
    {
      "cell_type": "code",
      "source": [
        "# Singly Linked List"
      ],
      "metadata": {
        "id": "zDHLXDVArWTT"
      },
      "execution_count": 2,
      "outputs": []
    },
    {
      "cell_type": "code",
      "source": [
        "class Node():\n",
        "\n",
        "  def __init__(self, value):\n",
        "\n",
        "    self.value = value\n",
        "    self.nextNode = None"
      ],
      "metadata": {
        "id": "BXwcRDcArasg"
      },
      "execution_count": 3,
      "outputs": []
    },
    {
      "cell_type": "code",
      "source": [
        "firstNode = Node(3)"
      ],
      "metadata": {
        "id": "gu7VU93MsG5B"
      },
      "execution_count": 4,
      "outputs": []
    },
    {
      "cell_type": "code",
      "source": [
        "secondNode = Node(5)"
      ],
      "metadata": {
        "id": "dKQ84w3wsT0_"
      },
      "execution_count": 5,
      "outputs": []
    },
    {
      "cell_type": "code",
      "source": [
        "thirdNode = Node(7)"
      ],
      "metadata": {
        "id": "LLUrgzK9sW55"
      },
      "execution_count": 6,
      "outputs": []
    },
    {
      "cell_type": "code",
      "source": [
        "firstNode.value"
      ],
      "metadata": {
        "colab": {
          "base_uri": "https://localhost:8080/"
        },
        "id": "wkC8GFwrscPV",
        "outputId": "d049a93a-58ce-45c5-ab69-b61d7a9d3bcf"
      },
      "execution_count": 7,
      "outputs": [
        {
          "output_type": "execute_result",
          "data": {
            "text/plain": [
              "3"
            ]
          },
          "metadata": {},
          "execution_count": 7
        }
      ]
    },
    {
      "cell_type": "code",
      "source": [
        "firstNode.nextNode = secondNode"
      ],
      "metadata": {
        "id": "U1SdTCHosr7O"
      },
      "execution_count": 8,
      "outputs": []
    },
    {
      "cell_type": "code",
      "source": [
        "secondNode.nextNode = thirdNode"
      ],
      "metadata": {
        "id": "8BYTbpyBs6kq"
      },
      "execution_count": 9,
      "outputs": []
    },
    {
      "cell_type": "code",
      "source": [
        "firstNode.nextNode"
      ],
      "metadata": {
        "colab": {
          "base_uri": "https://localhost:8080/"
        },
        "id": "-QvF0MY4tRKl",
        "outputId": "70f9671b-6702-4484-be84-697dc536d71f"
      },
      "execution_count": 10,
      "outputs": [
        {
          "output_type": "execute_result",
          "data": {
            "text/plain": [
              "<__main__.Node at 0x7fd6e49ba530>"
            ]
          },
          "metadata": {},
          "execution_count": 10
        }
      ]
    },
    {
      "cell_type": "code",
      "source": [
        "firstNode.nextNode.value"
      ],
      "metadata": {
        "colab": {
          "base_uri": "https://localhost:8080/"
        },
        "id": "y5OEoklMtXGZ",
        "outputId": "83dbaa3d-6b61-4a1c-a66e-a0922ea3c318"
      },
      "execution_count": 11,
      "outputs": [
        {
          "output_type": "execute_result",
          "data": {
            "text/plain": [
              "5"
            ]
          },
          "metadata": {},
          "execution_count": 11
        }
      ]
    },
    {
      "cell_type": "code",
      "source": [
        "firstNode.nextNode.nextNode.value"
      ],
      "metadata": {
        "colab": {
          "base_uri": "https://localhost:8080/"
        },
        "id": "EWhDN4jYtZjz",
        "outputId": "6d83abb4-88a7-4c6d-b036-bf83dec1acad"
      },
      "execution_count": 12,
      "outputs": [
        {
          "output_type": "execute_result",
          "data": {
            "text/plain": [
              "7"
            ]
          },
          "metadata": {},
          "execution_count": 12
        }
      ]
    },
    {
      "cell_type": "code",
      "source": [
        "class DoublyNode():\n",
        "\n",
        "  def __init__(self, value):\n",
        "    self.value = value\n",
        "    self.nextNode = None\n",
        "    self.prevNode = None"
      ],
      "metadata": {
        "id": "e-wYOUR5t-0h"
      },
      "execution_count": 13,
      "outputs": []
    },
    {
      "cell_type": "code",
      "source": [
        "x = DoublyNode(23)\n",
        "y = DoublyNode(29)\n",
        "z = DoublyNode(37)"
      ],
      "metadata": {
        "id": "8_y-nWURut_Q"
      },
      "execution_count": 14,
      "outputs": []
    },
    {
      "cell_type": "code",
      "source": [
        "x.nextNode = y\n",
        "y.prevNode = x"
      ],
      "metadata": {
        "id": "XTt6eupEvAs7"
      },
      "execution_count": 15,
      "outputs": []
    },
    {
      "cell_type": "code",
      "source": [
        "y.nextNode = z\n",
        "z.prevNode = y"
      ],
      "metadata": {
        "id": "3cFtzmHjvX_w"
      },
      "execution_count": 16,
      "outputs": []
    },
    {
      "cell_type": "code",
      "source": [
        "x.nextNode.value"
      ],
      "metadata": {
        "colab": {
          "base_uri": "https://localhost:8080/"
        },
        "id": "7e-31xS4vmYO",
        "outputId": "f2d15de9-f184-4cf7-d7cf-dccf3345d3c0"
      },
      "execution_count": 17,
      "outputs": [
        {
          "output_type": "execute_result",
          "data": {
            "text/plain": [
              "29"
            ]
          },
          "metadata": {},
          "execution_count": 17
        }
      ]
    },
    {
      "cell_type": "code",
      "source": [
        "x.nextNode.nextNode.value"
      ],
      "metadata": {
        "colab": {
          "base_uri": "https://localhost:8080/"
        },
        "id": "hait0XF2vqAf",
        "outputId": "79bed0a1-4ce0-4a4f-e2f1-ef02afe0af95"
      },
      "execution_count": 18,
      "outputs": [
        {
          "output_type": "execute_result",
          "data": {
            "text/plain": [
              "37"
            ]
          },
          "metadata": {},
          "execution_count": 18
        }
      ]
    },
    {
      "cell_type": "code",
      "source": [
        "z.prevNode.value"
      ],
      "metadata": {
        "colab": {
          "base_uri": "https://localhost:8080/"
        },
        "id": "HQugNj0VvuIt",
        "outputId": "aad16f7e-4214-4274-fb60-ea3fd92aae45"
      },
      "execution_count": 19,
      "outputs": [
        {
          "output_type": "execute_result",
          "data": {
            "text/plain": [
              "29"
            ]
          },
          "metadata": {},
          "execution_count": 19
        }
      ]
    },
    {
      "cell_type": "code",
      "source": [
        "z.prevNode.prevNode.value"
      ],
      "metadata": {
        "colab": {
          "base_uri": "https://localhost:8080/"
        },
        "id": "Ka0yVsZAvx-E",
        "outputId": "cf69532f-da80-4198-d0fb-e7d9b1d8fb7c"
      },
      "execution_count": 20,
      "outputs": [
        {
          "output_type": "execute_result",
          "data": {
            "text/plain": [
              "23"
            ]
          },
          "metadata": {},
          "execution_count": 20
        }
      ]
    }
  ]
}