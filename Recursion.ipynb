{
  "nbformat": 4,
  "nbformat_minor": 0,
  "metadata": {
    "colab": {
      "provenance": []
    },
    "kernelspec": {
      "name": "python3",
      "display_name": "Python 3"
    },
    "language_info": {
      "name": "python"
    }
  },
  "cells": [
    {
      "cell_type": "code",
      "execution_count": 1,
      "metadata": {
        "id": "P5NHTDNPuC0q"
      },
      "outputs": [],
      "source": [
        "def calculateFactorial(num):\n",
        "\n",
        "  # Edge Case\n",
        "  if num == 0:\n",
        "    return 1\n",
        "  else:\n",
        "    return num * calculateFactorial(num - 1)"
      ]
    },
    {
      "cell_type": "code",
      "source": [
        "calculateFactorial(6)"
      ],
      "metadata": {
        "colab": {
          "base_uri": "https://localhost:8080/"
        },
        "id": "e3y7HsMhvJ0q",
        "outputId": "5e7122fc-ceab-4a58-a40c-ad66415ad25f"
      },
      "execution_count": 2,
      "outputs": [
        {
          "output_type": "execute_result",
          "data": {
            "text/plain": [
              "720"
            ]
          },
          "metadata": {},
          "execution_count": 2
        }
      ]
    },
    {
      "cell_type": "code",
      "source": [
        "def calculateContigiousSum(num):\n",
        "\n",
        "  if num == 0:\n",
        "    return 0\n",
        "  else:\n",
        "    return num + calculateContigiousSum(num - 1)"
      ],
      "metadata": {
        "id": "XgiOxzY3v5Vw"
      },
      "execution_count": 3,
      "outputs": []
    },
    {
      "cell_type": "code",
      "source": [
        "calculateContigiousSum(10)"
      ],
      "metadata": {
        "colab": {
          "base_uri": "https://localhost:8080/"
        },
        "id": "QjNknSEAwTzs",
        "outputId": "06adae4c-9301-4336-9759-bc055b6a74f6"
      },
      "execution_count": 4,
      "outputs": [
        {
          "output_type": "execute_result",
          "data": {
            "text/plain": [
              "55"
            ]
          },
          "metadata": {},
          "execution_count": 4
        }
      ]
    }
  ]
}