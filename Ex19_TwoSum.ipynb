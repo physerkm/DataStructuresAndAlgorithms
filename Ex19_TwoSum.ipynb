{
  "nbformat": 4,
  "nbformat_minor": 0,
  "metadata": {
    "colab": {
      "provenance": []
    },
    "kernelspec": {
      "name": "python3",
      "display_name": "Python 3"
    },
    "language_info": {
      "name": "python"
    }
  },
  "cells": [
    {
      "cell_type": "markdown",
      "source": [
        "Given an array of integers `nums` and an integer `target`, return *indices of the two numbers such that they add up to* `target`.\n",
        "\n",
        "You may assume that each input would have **exactly one solution**, and you may not use the *same* element twice.\n",
        "\n",
        "You can return the answer in any order.\n",
        "\n",
        "**Example 1:**\n",
        "\n",
        "Input: `nums = [2, 7, 11, 15], target = 9`\n",
        "\n",
        "Output: `[0, 1]`\n",
        "\n",
        "Explanation: `Because nums[0] + nums[1] == 9, we return [0, 1].`\n",
        "\n",
        "**Example 2:**\n",
        "\n",
        "Input: `nums = [3, 2, 4], target = 6`\n",
        "\n",
        "Output: `[1,2]`\n",
        "\n",
        "**Example 3:**\n",
        "\n",
        "Input: `nums = [3, 3], target = 6`\n",
        "\n",
        "Output: `[0, 1]`\n",
        "\n",
        "**Constraints:**\n",
        "\n",
        "*   2 <= nums.length <= $10^{4}$\n",
        "*   $-10^{9}$ <= nums[i] <= $10^{9}$\n",
        "*   $-10^{9}$ <= target <= $10^{9}$\n",
        "*   Only one valid answer exists.\n",
        "\n",
        "**Follow-up:** Can you come up with an algorithm that is less than O($n^{2}$) time complexity?"
      ],
      "metadata": {
        "id": "VjaQ3RbFGqF_"
      }
    },
    {
      "cell_type": "code",
      "source": [
        "class Solution:\n",
        "  def twoSum(self, nums, target):\n",
        "    myHashMap = {}\n",
        "\n",
        "    for ix, num in enumerate(nums):\n",
        "      difference = target - num\n",
        "      if difference in myHashMap:\n",
        "        return [myHashMap[difference], ix]\n",
        "      myHashMap[num] = ix"
      ],
      "metadata": {
        "id": "nIxB9emnSQqo"
      },
      "execution_count": 1,
      "outputs": []
    },
    {
      "cell_type": "code",
      "source": [
        "sol = Solution()"
      ],
      "metadata": {
        "id": "m7WTSQGMTsJX"
      },
      "execution_count": 2,
      "outputs": []
    },
    {
      "cell_type": "code",
      "source": [
        "sol.twoSum([2, 7, 11, 15], 9)"
      ],
      "metadata": {
        "colab": {
          "base_uri": "https://localhost:8080/"
        },
        "id": "u2m4pnubTwg-",
        "outputId": "f3ec277e-a4d8-4dd8-9da9-aad0f47506f3"
      },
      "execution_count": 3,
      "outputs": [
        {
          "output_type": "execute_result",
          "data": {
            "text/plain": [
              "[0, 1]"
            ]
          },
          "metadata": {},
          "execution_count": 3
        }
      ]
    },
    {
      "cell_type": "code",
      "source": [
        "sol.twoSum([3, 2, 4], 6)"
      ],
      "metadata": {
        "colab": {
          "base_uri": "https://localhost:8080/"
        },
        "id": "_2cSSHzwT9Hg",
        "outputId": "c3badf8c-789d-42bf-8f4d-7a9ab0fcab5f"
      },
      "execution_count": 4,
      "outputs": [
        {
          "output_type": "execute_result",
          "data": {
            "text/plain": [
              "[1, 2]"
            ]
          },
          "metadata": {},
          "execution_count": 4
        }
      ]
    },
    {
      "cell_type": "code",
      "source": [
        "sol.twoSum([3, 3], 6)"
      ],
      "metadata": {
        "colab": {
          "base_uri": "https://localhost:8080/"
        },
        "id": "B2DB-faPUEQD",
        "outputId": "ca923cfa-b96f-4f14-d95f-a5e4641fbc0e"
      },
      "execution_count": 5,
      "outputs": [
        {
          "output_type": "execute_result",
          "data": {
            "text/plain": [
              "[0, 1]"
            ]
          },
          "metadata": {},
          "execution_count": 5
        }
      ]
    }
  ]
}