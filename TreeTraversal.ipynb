{
  "nbformat": 4,
  "nbformat_minor": 0,
  "metadata": {
    "colab": {
      "provenance": []
    },
    "kernelspec": {
      "name": "python3",
      "display_name": "Python 3"
    },
    "language_info": {
      "name": "python"
    }
  },
  "cells": [
    {
      "cell_type": "code",
      "execution_count": 1,
      "metadata": {
        "id": "TY-UAYNP6yCc"
      },
      "outputs": [],
      "source": [
        "class Node():\n",
        "\n",
        "  def __init__(self, value):\n",
        "\n",
        "    self.value = value\n",
        "    self.left = None\n",
        "    self.right = None"
      ]
    },
    {
      "cell_type": "code",
      "source": [
        "class BinarySearchTree:\n",
        "\n",
        "  def __init__(self):\n",
        "\n",
        "    self.root = None\n",
        "\n",
        "  def insert(self, value):\n",
        "\n",
        "    newNode = Node(value)\n",
        "\n",
        "    if self.root is None:\n",
        "\n",
        "      self.root = newNode\n",
        "      return True\n",
        "\n",
        "    tempNode = self.root    \n",
        "\n",
        "    while True:\n",
        "\n",
        "      if newNode.value == tempNode.value:\n",
        "        return False\n",
        "\n",
        "      if newNode.value < tempNode.value:\n",
        "        if tempNode.left is None:\n",
        "          tempNode.left = newNode\n",
        "          return True\n",
        "        tempNode = tempNode.left\n",
        "\n",
        "      else:\n",
        "        if tempNode.right is None:\n",
        "          tempNode.right = newNode\n",
        "          return True\n",
        "        tempNode = tempNode.right\n",
        "\n",
        "  def contains(self, value):\n",
        "\n",
        "    tempNode = self.root \n",
        "\n",
        "    while tempNode:\n",
        "      if value < tempNode.value:\n",
        "        tempNode = tempNode.left\n",
        "      elif value > tempNode.value:\n",
        "        tempNode = tempNode.right\n",
        "      else:\n",
        "        return True\n",
        "    return False\n",
        "\n",
        "  def minOfNode(self, currentNode):\n",
        "    while currentNode.left:\n",
        "      currentNode = currentNode.left\n",
        "    return currentNode\n",
        "  \n",
        "  def maxOfNode(self, currentNode):\n",
        "    while currentNode.right:\n",
        "      currentNode = currentNode.right\n",
        "    return currentNode\n",
        "\n",
        "  def BFS(self):\n",
        "    currentNode = self.root\n",
        "    myQueue = []\n",
        "    values = []\n",
        "    myQueue.append(currentNode)\n",
        "\n",
        "    while len(myQueue) > 0:\n",
        "      currentNode = myQueue.pop(0)\n",
        "      values.append(currentNode.value)\n",
        "      if currentNode.left is not None:\n",
        "        myQueue.append(currentNode.left)\n",
        "      if currentNode.right is not None:\n",
        "        myQueue.append(currentNode.right)\n",
        "    return values\n",
        "\n",
        "  def DFSPreOrder(self):\n",
        "    values = []\n",
        "\n",
        "    def traverse(currentNode):\n",
        "      values.append(currentNode.value)\n",
        "      if currentNode.left is not None:\n",
        "        traverse(currentNode.left)\n",
        "      if currentNode.right is not None:\n",
        "        traverse(currentNode.right)\n",
        "    traverse(self.root)\n",
        "    return values\n",
        "\n",
        "  \n",
        "  def DFSPostOrder(self):\n",
        "    values = []\n",
        "\n",
        "    def traverse(currentNode):\n",
        "      if currentNode.left is not None:\n",
        "        traverse(currentNode.left)\n",
        "      if currentNode.right is not None:\n",
        "        traverse(currentNode.right)\n",
        "      values.append(currentNode.value)\n",
        "    traverse(self.root)\n",
        "    return values\n",
        "\n",
        "  def DFSInOrder(self):\n",
        "    values = []\n",
        "\n",
        "    def traverse(currentNode):\n",
        "      if currentNode.left is not None:\n",
        "        traverse(currentNode.left)\n",
        "      values.append(currentNode.value)\n",
        "      if currentNode.right is not None:\n",
        "        traverse(currentNode.right)       \n",
        "    traverse(self.root)\n",
        "    return values"
      ],
      "metadata": {
        "id": "QeAQr8CJ7Eyp"
      },
      "execution_count": 2,
      "outputs": []
    },
    {
      "cell_type": "code",
      "source": [
        "myTree = BinarySearchTree()\n",
        "myTree.insert(38)\n",
        "myTree.insert(19)\n",
        "myTree.insert(69)\n",
        "myTree.insert(12)\n",
        "myTree.insert(24)\n",
        "myTree.insert(59)\n",
        "myTree.insert(95)"
      ],
      "metadata": {
        "colab": {
          "base_uri": "https://localhost:8080/"
        },
        "id": "v5a68DQF90T_",
        "outputId": "5bb78c7c-3548-4f14-c6f5-6d36c50999f8"
      },
      "execution_count": 3,
      "outputs": [
        {
          "output_type": "execute_result",
          "data": {
            "text/plain": [
              "True"
            ]
          },
          "metadata": {},
          "execution_count": 3
        }
      ]
    },
    {
      "cell_type": "code",
      "source": [
        "myTree.BFS()"
      ],
      "metadata": {
        "colab": {
          "base_uri": "https://localhost:8080/"
        },
        "id": "sLc757dk-V7G",
        "outputId": "9e58e9e9-1dd2-4530-a4f9-3478f2fc4886"
      },
      "execution_count": 4,
      "outputs": [
        {
          "output_type": "execute_result",
          "data": {
            "text/plain": [
              "[38, 19, 69, 12, 24, 59, 95]"
            ]
          },
          "metadata": {},
          "execution_count": 4
        }
      ]
    },
    {
      "cell_type": "code",
      "source": [
        "myTree.DFSPreOrder()"
      ],
      "metadata": {
        "colab": {
          "base_uri": "https://localhost:8080/"
        },
        "id": "7SWMW4LP12Qm",
        "outputId": "247cc377-aa1a-4b25-f248-c48e37b01a38"
      },
      "execution_count": 5,
      "outputs": [
        {
          "output_type": "execute_result",
          "data": {
            "text/plain": [
              "[38, 19, 12, 24, 69, 59, 95]"
            ]
          },
          "metadata": {},
          "execution_count": 5
        }
      ]
    },
    {
      "cell_type": "code",
      "source": [
        "myTree.DFSPostOrder()"
      ],
      "metadata": {
        "colab": {
          "base_uri": "https://localhost:8080/"
        },
        "id": "FPNKfPtk8BU9",
        "outputId": "9e778667-d28a-4fc0-aee8-b5f22a74a2e3"
      },
      "execution_count": 6,
      "outputs": [
        {
          "output_type": "execute_result",
          "data": {
            "text/plain": [
              "[12, 24, 19, 59, 95, 69, 38]"
            ]
          },
          "metadata": {},
          "execution_count": 6
        }
      ]
    },
    {
      "cell_type": "code",
      "source": [
        "myTree.DFSInOrder()"
      ],
      "metadata": {
        "colab": {
          "base_uri": "https://localhost:8080/"
        },
        "id": "6v2LHNYx8iWZ",
        "outputId": "41e76a8e-d36c-4a89-f2f6-84ffd7d15db0"
      },
      "execution_count": 7,
      "outputs": [
        {
          "output_type": "execute_result",
          "data": {
            "text/plain": [
              "[12, 19, 24, 38, 59, 69, 95]"
            ]
          },
          "metadata": {},
          "execution_count": 7
        }
      ]
    }
  ]
}