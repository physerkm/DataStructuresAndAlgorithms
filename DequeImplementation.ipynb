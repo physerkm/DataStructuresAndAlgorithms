{
  "nbformat": 4,
  "nbformat_minor": 0,
  "metadata": {
    "colab": {
      "provenance": []
    },
    "kernelspec": {
      "name": "python3",
      "display_name": "Python 3"
    },
    "language_info": {
      "name": "python"
    }
  },
  "cells": [
    {
      "cell_type": "code",
      "execution_count": 1,
      "metadata": {
        "colab": {
          "base_uri": "https://localhost:8080/",
          "height": 35
        },
        "id": "S05siDvP2zaa",
        "outputId": "7f20731f-758b-4b85-bb53-65d0b98c44b8"
      },
      "outputs": [
        {
          "output_type": "execute_result",
          "data": {
            "text/plain": [
              "'\\nDeque()\\n\\naddRight()\\naddLeft()\\n\\nremoveRight()\\nremoveLeft()\\n\\nisEmpty()\\nsize()\\n'"
            ],
            "application/vnd.google.colaboratory.intrinsic+json": {
              "type": "string"
            }
          },
          "metadata": {},
          "execution_count": 1
        }
      ],
      "source": [
        "'''\n",
        "Deque()\n",
        "\n",
        "addRight()\n",
        "addLeft()\n",
        "\n",
        "removeRight()\n",
        "removeLeft()\n",
        "\n",
        "isEmpty()\n",
        "size()\n",
        "'''"
      ]
    },
    {
      "cell_type": "code",
      "source": [
        "class Deque():\n",
        "\n",
        "  def __init__(self):\n",
        "    self.elements = []\n",
        "\n",
        "  def isEmpty(self):\n",
        "    return self.elements == []\n",
        "\n",
        "  def addLeft(self, element):\n",
        "    self.elements.insert(0, element)\n",
        "\n",
        "  def addRight(self, element):\n",
        "    self.elements.append(element)\n",
        "\n",
        "  def removeLeft(self):\n",
        "    return self.elements.pop(0)\n",
        "\n",
        "  def removeRight(self):\n",
        "    return self.elements.pop()\n",
        "\n",
        "  def size(self):\n",
        "    return len(self.elements)"
      ],
      "metadata": {
        "id": "YlmfDrkw6J9c"
      },
      "execution_count": 2,
      "outputs": []
    },
    {
      "cell_type": "code",
      "source": [
        "myDeque = Deque()"
      ],
      "metadata": {
        "id": "ILTnw8-r7-mN"
      },
      "execution_count": 3,
      "outputs": []
    },
    {
      "cell_type": "code",
      "source": [
        "myDeque.addRight(3)"
      ],
      "metadata": {
        "id": "konOxCK58Ha0"
      },
      "execution_count": 4,
      "outputs": []
    },
    {
      "cell_type": "code",
      "source": [
        "myDeque.addRight(5)"
      ],
      "metadata": {
        "id": "L316SiH88Rmu"
      },
      "execution_count": 5,
      "outputs": []
    },
    {
      "cell_type": "code",
      "source": [
        "myDeque.addLeft(7)"
      ],
      "metadata": {
        "id": "7w0Ad7ff8gIP"
      },
      "execution_count": 6,
      "outputs": []
    },
    {
      "cell_type": "code",
      "source": [
        "myDeque.addLeft(9)"
      ],
      "metadata": {
        "id": "J7JBBKBL8sA8"
      },
      "execution_count": 7,
      "outputs": []
    },
    {
      "cell_type": "code",
      "source": [
        "myDeque.addRight(11)"
      ],
      "metadata": {
        "id": "z4JeIB-R8yaz"
      },
      "execution_count": 8,
      "outputs": []
    },
    {
      "cell_type": "code",
      "source": [
        "myDeque.size()"
      ],
      "metadata": {
        "colab": {
          "base_uri": "https://localhost:8080/"
        },
        "id": "8GmHDtOn87dc",
        "outputId": "2da5288b-4a73-4c3b-a264-9fb1501099e3"
      },
      "execution_count": 9,
      "outputs": [
        {
          "output_type": "execute_result",
          "data": {
            "text/plain": [
              "5"
            ]
          },
          "metadata": {},
          "execution_count": 9
        }
      ]
    },
    {
      "cell_type": "code",
      "source": [
        "myDeque.removeLeft()"
      ],
      "metadata": {
        "colab": {
          "base_uri": "https://localhost:8080/"
        },
        "id": "-1LgRrLa8_eD",
        "outputId": "242ff53f-fad1-45b9-b355-4b12e41dfe04"
      },
      "execution_count": 10,
      "outputs": [
        {
          "output_type": "execute_result",
          "data": {
            "text/plain": [
              "9"
            ]
          },
          "metadata": {},
          "execution_count": 10
        }
      ]
    },
    {
      "cell_type": "code",
      "source": [
        "myDeque.removeLeft()"
      ],
      "metadata": {
        "colab": {
          "base_uri": "https://localhost:8080/"
        },
        "id": "tWqqkNLj9GwP",
        "outputId": "1cf7d64a-8aa5-40a0-fe39-d6cdb07b447e"
      },
      "execution_count": 11,
      "outputs": [
        {
          "output_type": "execute_result",
          "data": {
            "text/plain": [
              "7"
            ]
          },
          "metadata": {},
          "execution_count": 11
        }
      ]
    },
    {
      "cell_type": "code",
      "source": [
        "myDeque.removeRight()"
      ],
      "metadata": {
        "colab": {
          "base_uri": "https://localhost:8080/"
        },
        "id": "79QEpqr79KoN",
        "outputId": "bfc70198-6d2c-4538-d555-ce85472b5fad"
      },
      "execution_count": 12,
      "outputs": [
        {
          "output_type": "execute_result",
          "data": {
            "text/plain": [
              "11"
            ]
          },
          "metadata": {},
          "execution_count": 12
        }
      ]
    },
    {
      "cell_type": "code",
      "source": [
        "myDeque.size()"
      ],
      "metadata": {
        "colab": {
          "base_uri": "https://localhost:8080/"
        },
        "id": "k34sEDWn9Qjm",
        "outputId": "75dff7a7-a984-4e7e-ac6d-47b3c270482d"
      },
      "execution_count": 13,
      "outputs": [
        {
          "output_type": "execute_result",
          "data": {
            "text/plain": [
              "2"
            ]
          },
          "metadata": {},
          "execution_count": 13
        }
      ]
    },
    {
      "cell_type": "code",
      "source": [
        "myDeque.removeRight()"
      ],
      "metadata": {
        "colab": {
          "base_uri": "https://localhost:8080/"
        },
        "id": "kbNGMIt49dlC",
        "outputId": "8f109131-aaa9-4f6e-a6de-c240a5fe6c47"
      },
      "execution_count": 14,
      "outputs": [
        {
          "output_type": "execute_result",
          "data": {
            "text/plain": [
              "5"
            ]
          },
          "metadata": {},
          "execution_count": 14
        }
      ]
    },
    {
      "cell_type": "code",
      "source": [
        "myDeque.removeRight()"
      ],
      "metadata": {
        "colab": {
          "base_uri": "https://localhost:8080/"
        },
        "id": "4rPa2x9u9ei4",
        "outputId": "3f2db299-99ad-43b3-ede9-5d64eed628b0"
      },
      "execution_count": 15,
      "outputs": [
        {
          "output_type": "execute_result",
          "data": {
            "text/plain": [
              "3"
            ]
          },
          "metadata": {},
          "execution_count": 15
        }
      ]
    },
    {
      "cell_type": "code",
      "source": [
        "myDeque.isEmpty()"
      ],
      "metadata": {
        "colab": {
          "base_uri": "https://localhost:8080/"
        },
        "id": "SrnHJLbe9frR",
        "outputId": "2ddf21e0-3f3d-46cf-8b80-8dd203814465"
      },
      "execution_count": 16,
      "outputs": [
        {
          "output_type": "execute_result",
          "data": {
            "text/plain": [
              "True"
            ]
          },
          "metadata": {},
          "execution_count": 16
        }
      ]
    }
  ]
}