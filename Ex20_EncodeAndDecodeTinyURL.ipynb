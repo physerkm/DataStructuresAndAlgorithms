{
  "nbformat": 4,
  "nbformat_minor": 0,
  "metadata": {
    "colab": {
      "provenance": []
    },
    "kernelspec": {
      "name": "python3",
      "display_name": "Python 3"
    },
    "language_info": {
      "name": "python"
    }
  },
  "cells": [
    {
      "cell_type": "markdown",
      "source": [
        "**Note:** This is a companion problem to the [System Design](https://leetcode.com/discuss/interview-question/system-design/?currentPage=1&orderBy=hot&query=) problem: [Design TinyURL](https://leetcode.com/discuss/interview-question/124658/Design-a-URL-Shortener-(-TinyURL-)-System/). TinyURL is a URL shortening service where you enter a URL such as https://leetcode.com/problems/design-tinyurl and it returns a short URL such as http://tinyurl.com/4e9iAk. Design a class to encode a URL and decode a tiny URL.\n",
        "\n",
        "There is no restriction on how your encode/decode algorithm should work. You just need to ensure that a URL can be encoded to a tiny URL and the tiny URL can be decoded to the original URL.\n",
        "\n",
        "Implement the `Solution` class:\n",
        "\n",
        "*   `Solution()` Initializes the object of the system.\n",
        "*   `String encode(String longUrl)` Returns a tiny URL for the given `longUrl`.\n",
        "*   `String decode(String shortUrl)` Returns the original long URL for the given `shortUrl`. It is guaranteed that the given shortUrl was encoded by the same object.\n",
        "\n",
        "**Example 1:**\n",
        "\n",
        "Input: `url = \"https://leetcode.com/problems/design-tinyurl\"`\n",
        "\n",
        "Output: `\"https://leetcode.com/problems/design-tinyurl\"`\n",
        "\n",
        "Explanation:\n",
        "```\n",
        "Solution obj = new Solution();\n",
        "\n",
        "string tiny = obj.encode(url); // returns the encoded tiny url.\n",
        "\n",
        "string ans = obj.decode(tiny); // returns the original url after decoding it.\n",
        "```\n",
        "\n",
        "**Constraints:**\n",
        "\n",
        "*   1 <= url.length <= $10^{4}$\n",
        "*   `url` is guranteed to be a valid URL."
      ],
      "metadata": {
        "id": "-FKUHXiWpsk6"
      }
    },
    {
      "cell_type": "code",
      "source": [
        "class Codec:\n",
        "\n",
        "  def __init__(self):\n",
        "    self.encodingMap = {}\n",
        "    self.decodingMap = {}\n",
        "    self.baseUrl = \"https://tinyurl.com/\"\n",
        "\n",
        "  def encode(self, longUrl: str) -> str:\n",
        "    if longUrl not in self.encodingMap:\n",
        "      shortUrl = self.baseUrl + str(len(self.encodingMap) + 1)\n",
        "      self.encodingMap[longUrl] = shortUrl\n",
        "      self.decodingMap[shortUrl] = longUrl\n",
        "    return self.encodingMap[longUrl]\n",
        "\n",
        "  def decode(self, shortUrl: str) -> str:\n",
        "    return self.decodingMap[shortUrl]"
      ],
      "metadata": {
        "id": "5B9-sQxMr4hu"
      },
      "execution_count": 1,
      "outputs": []
    },
    {
      "cell_type": "code",
      "source": [
        "codec = Codec()"
      ],
      "metadata": {
        "id": "Nk4rlXScFZ0j"
      },
      "execution_count": 2,
      "outputs": []
    },
    {
      "cell_type": "code",
      "source": [
        "codec.encode(\"https://erkamsis.com/test/test/test\")"
      ],
      "metadata": {
        "colab": {
          "base_uri": "https://localhost:8080/",
          "height": 35
        },
        "id": "ahKzhGSOFjSO",
        "outputId": "267eb2eb-3d3e-4397-a57d-cdcbf8549e6c"
      },
      "execution_count": 3,
      "outputs": [
        {
          "output_type": "execute_result",
          "data": {
            "text/plain": [
              "'https://tinyurl.com/1'"
            ],
            "application/vnd.google.colaboratory.intrinsic+json": {
              "type": "string"
            }
          },
          "metadata": {},
          "execution_count": 3
        }
      ]
    },
    {
      "cell_type": "code",
      "source": [
        "codec.decode(\"https://tinyurl.com/1\")"
      ],
      "metadata": {
        "colab": {
          "base_uri": "https://localhost:8080/",
          "height": 35
        },
        "id": "O-CUjwHUF0xC",
        "outputId": "26cd79d1-39b5-408a-f58b-60762d492759"
      },
      "execution_count": 5,
      "outputs": [
        {
          "output_type": "execute_result",
          "data": {
            "text/plain": [
              "'https://erkamsis.com/test/test/test'"
            ],
            "application/vnd.google.colaboratory.intrinsic+json": {
              "type": "string"
            }
          },
          "metadata": {},
          "execution_count": 5
        }
      ]
    },
    {
      "cell_type": "code",
      "source": [
        "codec.encode(\"https://erkamsis.com/courses/datastructure/algorithms/\")"
      ],
      "metadata": {
        "colab": {
          "base_uri": "https://localhost:8080/",
          "height": 35
        },
        "id": "2fes0OWXGIQL",
        "outputId": "318db9d8-4baa-4bb9-ac60-1d88ab567004"
      },
      "execution_count": 6,
      "outputs": [
        {
          "output_type": "execute_result",
          "data": {
            "text/plain": [
              "'https://tinyurl.com/2'"
            ],
            "application/vnd.google.colaboratory.intrinsic+json": {
              "type": "string"
            }
          },
          "metadata": {},
          "execution_count": 6
        }
      ]
    },
    {
      "cell_type": "code",
      "source": [
        "codec.decode(\"https://tinyurl.com/2\")"
      ],
      "metadata": {
        "colab": {
          "base_uri": "https://localhost:8080/",
          "height": 35
        },
        "id": "gPt7oxNfGOI0",
        "outputId": "c6fdd736-205f-455a-ab95-8905d277f140"
      },
      "execution_count": 7,
      "outputs": [
        {
          "output_type": "execute_result",
          "data": {
            "text/plain": [
              "'https://erkamsis.com/courses/datastructure/algorithms/'"
            ],
            "application/vnd.google.colaboratory.intrinsic+json": {
              "type": "string"
            }
          },
          "metadata": {},
          "execution_count": 7
        }
      ]
    }
  ]
}