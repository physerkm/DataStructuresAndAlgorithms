{
  "nbformat": 4,
  "nbformat_minor": 0,
  "metadata": {
    "colab": {
      "provenance": []
    },
    "kernelspec": {
      "name": "python3",
      "display_name": "Python 3"
    },
    "language_info": {
      "name": "python"
    }
  },
  "cells": [
    {
      "cell_type": "markdown",
      "source": [
        "Given an `m x n` 2D binary grid `grid` which represents a map of `1`s (land) and `0`s (water), return *the number of islands*.\n",
        "\n",
        "An **island** is surrounded by water and is formed by connecting adjacent lands horizontally or vertically. You may assume all four edges of the grid are all surrounded by water.\n",
        "\n",
        "\n",
        "**Example 1:**\n",
        "```\n",
        "Input: grid = [\n",
        "  [\"1\",\"1\",\"1\",\"1\",\"0\"],\n",
        "  [\"1\",\"1\",\"0\",\"1\",\"0\"],\n",
        "  [\"1\",\"1\",\"0\",\"0\",\"0\"],\n",
        "  [\"0\",\"0\",\"0\",\"0\",\"0\"]\n",
        "]\n",
        "Output: 1\n",
        "```\n",
        "\n",
        "**Example 2:**\n",
        "```\n",
        "Input: grid = [\n",
        "  [\"1\",\"1\",\"0\",\"0\",\"0\"],\n",
        "  [\"1\",\"1\",\"0\",\"0\",\"0\"],\n",
        "  [\"0\",\"0\",\"1\",\"0\",\"0\"],\n",
        "  [\"0\",\"0\",\"0\",\"1\",\"1\"]\n",
        "]\n",
        "Output: 3\n",
        "```\n",
        "\n",
        "**Constraints:**\n",
        "\n",
        "*   `m == grid.length`\n",
        "*   `n == grid[i].length`\n",
        "*   `1 <= m, n <= 300`\n",
        "*   `grid[i][j]` is `0` or `1`."
      ],
      "metadata": {
        "id": "g82yS8jHEEsf"
      }
    },
    {
      "cell_type": "code",
      "source": [
        "[\n",
        "  [\"1\",\"1\",\"1\",\"1\",\"0\"],\n",
        "  [\"1\",\"1\",\"0\",\"1\",\"0\"],\n",
        "  [\"1\",\"1\",\"0\",\"0\",\"0\"],\n",
        "  [\"0\",\"0\",\"0\",\"0\",\"0\"]\n",
        "]"
      ],
      "metadata": {
        "colab": {
          "base_uri": "https://localhost:8080/"
        },
        "id": "xLJR4pPVeYZr",
        "outputId": "2e180509-db50-4212-a094-39c68e839953"
      },
      "execution_count": 1,
      "outputs": [
        {
          "output_type": "execute_result",
          "data": {
            "text/plain": [
              "[['1', '1', '1', '1', '0'],\n",
              " ['1', '1', '0', '1', '0'],\n",
              " ['1', '1', '0', '0', '0'],\n",
              " ['0', '0', '0', '0', '0']]"
            ]
          },
          "metadata": {},
          "execution_count": 1
        }
      ]
    },
    {
      "cell_type": "code",
      "source": [
        "[\n",
        "  [\"1\",\"1\",\"0\",\"0\",\"0\"],\n",
        "  [\"1\",\"1\",\"0\",\"0\",\"0\"],\n",
        "  [\"0\",\"0\",\"1\",\"0\",\"0\"],\n",
        "  [\"0\",\"0\",\"0\",\"1\",\"1\"]\n",
        "]"
      ],
      "metadata": {
        "colab": {
          "base_uri": "https://localhost:8080/"
        },
        "id": "8u7_094-eajb",
        "outputId": "e08fc81d-bab8-4727-cc54-9099b29b4d03"
      },
      "execution_count": 2,
      "outputs": [
        {
          "output_type": "execute_result",
          "data": {
            "text/plain": [
              "[['1', '1', '0', '0', '0'],\n",
              " ['1', '1', '0', '0', '0'],\n",
              " ['0', '0', '1', '0', '0'],\n",
              " ['0', '0', '0', '1', '1']]"
            ]
          },
          "metadata": {},
          "execution_count": 2
        }
      ]
    },
    {
      "cell_type": "code",
      "source": [
        "class Solution:\n",
        "  def numIslands(self, grid) -> int:\n",
        "    rowNumber = len(grid)\n",
        "    columnNumber = len(grid[0])\n",
        "\n",
        "    visited = set()\n",
        "\n",
        "    islandCounter = 0\n",
        "\n",
        "    def bfs(row, column):\n",
        "      myQueue = []\n",
        "\n",
        "      visited.add((row, column))\n",
        "      myQueue.append((row, column))\n",
        "\n",
        "      while len(myQueue) != 0:\n",
        "        row, column = myQueue.pop(0)\n",
        "        myDirections = [[1,0], [-1,0],[0,1],[0,-1]]\n",
        "\n",
        "        for rowDirection, columnDirection in myDirections:\n",
        "          newRow = row + rowDirection\n",
        "          newColumn = column + columnDirection\n",
        "\n",
        "          if (newRow in range(rowNumber) and\n",
        "              newColumn in range(columnNumber) and\n",
        "              grid[newRow][newColumn] == \"1\" and\n",
        "              (newRow, newColumn) not in visited):\n",
        "\n",
        "            myQueue.append((newRow, newColumn))\n",
        "            visited.add((newRow, newColumn))\n",
        "\n",
        "    for row in range(rowNumber):\n",
        "      for column in range(columnNumber):\n",
        "        if grid[row][column] == \"1\" and (row, column) not in visited:\n",
        "          bfs(row, column)\n",
        "          islandCounter += 1\n",
        "\n",
        "    return islandCounter"
      ],
      "metadata": {
        "id": "w99MGOgGGXQH"
      },
      "execution_count": 3,
      "outputs": []
    },
    {
      "cell_type": "code",
      "source": [
        "sol = Solution()"
      ],
      "metadata": {
        "id": "Nm4USOYYeg41"
      },
      "execution_count": 4,
      "outputs": []
    },
    {
      "cell_type": "code",
      "source": [
        "sol.numIslands([\n",
        "  [\"1\",\"1\",\"1\",\"1\",\"0\"],\n",
        "  [\"1\",\"1\",\"0\",\"1\",\"0\"],\n",
        "  [\"1\",\"1\",\"0\",\"0\",\"0\"],\n",
        "  [\"0\",\"0\",\"0\",\"0\",\"0\"]\n",
        "])"
      ],
      "metadata": {
        "colab": {
          "base_uri": "https://localhost:8080/"
        },
        "id": "fFSOZCcdeiyy",
        "outputId": "1af4674c-0ce1-4e7e-cc34-2b2c2f275e5d"
      },
      "execution_count": 5,
      "outputs": [
        {
          "output_type": "execute_result",
          "data": {
            "text/plain": [
              "1"
            ]
          },
          "metadata": {},
          "execution_count": 5
        }
      ]
    },
    {
      "cell_type": "code",
      "source": [
        "sol.numIslands([\n",
        "  [\"1\",\"1\",\"0\",\"0\",\"0\"],\n",
        "  [\"1\",\"1\",\"0\",\"0\",\"0\"],\n",
        "  [\"0\",\"0\",\"1\",\"0\",\"0\"],\n",
        "  [\"0\",\"0\",\"0\",\"1\",\"1\"]\n",
        "])"
      ],
      "metadata": {
        "colab": {
          "base_uri": "https://localhost:8080/"
        },
        "id": "xPMKB6u2evlz",
        "outputId": "f3b7a6f2-a71d-448e-cc72-12b3de4ec0ee"
      },
      "execution_count": 6,
      "outputs": [
        {
          "output_type": "execute_result",
          "data": {
            "text/plain": [
              "3"
            ]
          },
          "metadata": {},
          "execution_count": 6
        }
      ]
    }
  ]
}