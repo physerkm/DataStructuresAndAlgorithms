{
  "nbformat": 4,
  "nbformat_minor": 0,
  "metadata": {
    "colab": {
      "provenance": []
    },
    "kernelspec": {
      "name": "python3",
      "display_name": "Python 3"
    },
    "language_info": {
      "name": "python"
    }
  },
  "cells": [
    {
      "cell_type": "code",
      "execution_count": 1,
      "metadata": {
        "id": "lloyFQRxPEfl"
      },
      "outputs": [],
      "source": [
        "class Graph:\n",
        "\n",
        "  def __init__(self):\n",
        "    self.adjDict = {}\n",
        "\n",
        "  def addVertex(self, vertex):\n",
        "    if vertex not in self.adjDict.keys():\n",
        "      self.adjDict[vertex] = []\n",
        "      return True\n",
        "    return False\n",
        "\n",
        "  def addEdge(self, v1, v2):\n",
        "    if v1 in self.adjDict.keys() and v2 in self.adjDict.keys():\n",
        "      self.adjDict[v1].append(v2)\n",
        "      self.adjDict[v2].append(v1)\n",
        "      return True\n",
        "    return False\n",
        "\n",
        "  def removeEdge(self, v1, v2):\n",
        "    if v1 in self.adjDict.keys() and v2 in self.adjDict.keys():\n",
        "      try:\n",
        "        self.adjDict[v1].remove(v2)\n",
        "        self.adjDict[v2].remove(v1)\n",
        "      except ValueError:\n",
        "        pass\n",
        "      return True\n",
        "    return False\n",
        "\n",
        "  def removeVertex(self, vertex):\n",
        "    if vertex in self.adjDict.keys():\n",
        "      for relatedVertex in self.adjDict[vertex]:\n",
        "        self.adjDict[relatedVertex].remove(vertex)\n",
        "      del self.adjDict[vertex]\n",
        "      return True\n",
        "    return False\n",
        "\n",
        "  def printGraph(self):\n",
        "    for vertex in self.adjDict:\n",
        "      print(vertex, \"->\", self.adjDict[vertex])"
      ]
    },
    {
      "cell_type": "code",
      "source": [
        "myGraph = Graph()\n",
        "myGraph.addVertex(\"IST\")\n",
        "myGraph.addVertex(\"AMS\")\n",
        "myGraph.addVertex(\"CDG\")\n",
        "myGraph.addVertex(\"JFK\")\n",
        "\n",
        "myGraph.addEdge(\"IST\", \"AMS\")\n",
        "myGraph.addEdge(\"IST\", \"CDG\")\n",
        "myGraph.addEdge(\"IST\", \"JFK\")\n",
        "myGraph.addEdge(\"AMS\", \"CDG\")\n",
        "myGraph.addEdge(\"AMS\", \"JFK\")\n",
        "myGraph.addEdge(\"CDG\", \"JFK\")\n",
        "\n",
        "myGraph.printGraph()"
      ],
      "metadata": {
        "colab": {
          "base_uri": "https://localhost:8080/"
        },
        "id": "2YdPtYytqUfo",
        "outputId": "3e2237e2-2ed0-4cf3-d7f7-71f7016a0c0c"
      },
      "execution_count": 2,
      "outputs": [
        {
          "output_type": "stream",
          "name": "stdout",
          "text": [
            "IST -> ['AMS', 'CDG', 'JFK']\n",
            "AMS -> ['IST', 'CDG', 'JFK']\n",
            "CDG -> ['IST', 'AMS', 'JFK']\n",
            "JFK -> ['IST', 'AMS', 'CDG']\n"
          ]
        }
      ]
    },
    {
      "cell_type": "code",
      "source": [
        "# myGraph.removeVertex(\"JFK\")\n",
        "# myGraph.printGraph()"
      ],
      "metadata": {
        "id": "hu8bBRGFp_pT"
      },
      "execution_count": 3,
      "outputs": []
    },
    {
      "cell_type": "code",
      "source": [
        "myGraph.removeEdge('IST','CDG')\n",
        "myGraph.removeEdge('CDG','JFK')\n",
        "myGraph.printGraph()"
      ],
      "metadata": {
        "colab": {
          "base_uri": "https://localhost:8080/"
        },
        "id": "8iQ600RszBZN",
        "outputId": "d3ea96ec-0fe0-439d-e795-d90c096f5f81"
      },
      "execution_count": 4,
      "outputs": [
        {
          "output_type": "stream",
          "name": "stdout",
          "text": [
            "IST -> ['AMS', 'JFK']\n",
            "AMS -> ['IST', 'CDG', 'JFK']\n",
            "CDG -> ['AMS']\n",
            "JFK -> ['IST', 'AMS']\n"
          ]
        }
      ]
    }
  ]
}