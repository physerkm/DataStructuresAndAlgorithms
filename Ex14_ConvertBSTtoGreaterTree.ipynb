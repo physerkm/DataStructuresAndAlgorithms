{
  "nbformat": 4,
  "nbformat_minor": 0,
  "metadata": {
    "colab": {
      "provenance": []
    },
    "kernelspec": {
      "name": "python3",
      "display_name": "Python 3"
    },
    "language_info": {
      "name": "python"
    }
  },
  "cells": [
    {
      "cell_type": "markdown",
      "source": [
        "Given the `root` of a Binary Search Tree (BST), convert it to a Greater Tree such that every key of the original BST is changed to the original key plus the sum of all keys greater than the original key in BST.\n",
        "\n",
        "As a reminder, a *binary search tree* is a tree that satisfies these constraints:\n",
        "\n",
        "*   The left subtree of a node contains only nodes with keys **less than** the node's key.\n",
        "*   The right subtree of a node contains only nodes with keys **greater than** the node's key.\n",
        "*   Both the left and right subtrees must also be binary search trees.\n",
        "\n",
        "**Example 1:**\n",
        "\n",
        "<img src=\"https://assets.leetcode.com/uploads/2019/05/02/tree.png\">\n",
        "\n",
        "Input: `root = [4,1,6,0,2,5,7,null,null,null,3,null,null,null,8]`\n",
        "\n",
        "Output: `[30,36,21,36,35,26,15,null,null,null,33,null,null,null,8]`\n",
        "\n",
        "**Example 2:**\n",
        "\n",
        "Input: `root = [0,null,1]`\n",
        "\n",
        "Output: `[1,null,1]` \n",
        "\n",
        "**Constraints:**\n",
        "\n",
        "*   The number of nodes in the tree is in the range [0, $10^{4}$].\n",
        "\n",
        "*   -$10^{4}$ <= Node.val <= $10^{4}$\n",
        "*   All the values in the tree are **unique**.\n",
        "*   `root` is guaranteed to be a valid binary search tree.\n",
        "\n",
        " \n",
        "\n",
        "**Note:** This question is the same as 1038: https://leetcode.com/problems/binary-search-tree-to-greater-sum-tree/\n"
      ],
      "metadata": {
        "id": "CPyHHj9u-S8v"
      }
    },
    {
      "cell_type": "code",
      "source": [
        "# Definition for a binary tree node.\n",
        "\n",
        "class TreeNode:\n",
        "  def __init__(self, val=0, left=None, right=None):\n",
        "    self.val = val\n",
        "    self.left = left\n",
        "    self.right = right"
      ],
      "metadata": {
        "id": "MwRYNPRxAbZ6"
      },
      "execution_count": 1,
      "outputs": []
    },
    {
      "cell_type": "code",
      "source": [
        "from typing import Optional"
      ],
      "metadata": {
        "id": "lr1nQXEkO6di"
      },
      "execution_count": 2,
      "outputs": []
    },
    {
      "cell_type": "code",
      "source": [
        "class Solution:\n",
        "  def convertBST(self, root: Optional[TreeNode]) -> Optional[TreeNode]:\n",
        "    sumOfValues = 0\n",
        "    \n",
        "    def traversal(node):\n",
        "      if not node:\n",
        "        return\n",
        "        \n",
        "      nonlocal sumOfValues\n",
        "      traversal(node.right)\n",
        "      temp = node.val\n",
        "      node.val += sumOfValues\n",
        "      sumOfValues += temp\n",
        "      traversal(node.left)\n",
        "        \n",
        "    traversal(root)\n",
        "    return root"
      ],
      "metadata": {
        "id": "xLBFP26wOlO-"
      },
      "execution_count": 3,
      "outputs": []
    }
  ]
}