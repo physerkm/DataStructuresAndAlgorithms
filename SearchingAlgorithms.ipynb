{
  "nbformat": 4,
  "nbformat_minor": 0,
  "metadata": {
    "colab": {
      "provenance": []
    },
    "kernelspec": {
      "name": "python3",
      "display_name": "Python 3"
    },
    "language_info": {
      "name": "python"
    }
  },
  "cells": [
    {
      "cell_type": "code",
      "execution_count": 1,
      "metadata": {
        "id": "rgnNBljkxWBn"
      },
      "outputs": [],
      "source": [
        "class SearchingAlgorithms:\n",
        "\n",
        "  def sequentialSearchUnordered(self, unorderedList, number):\n",
        "    ix = 0\n",
        "    found = False\n",
        "\n",
        "    while ix < len(unorderedList) and not found:\n",
        "      if unorderedList[ix] == number:\n",
        "        found = True\n",
        "      else:\n",
        "        ix += 1\n",
        "    return found\n",
        "\n",
        "  def sequentialSearchOrdered(self, orderedList, number):\n",
        "    ix = 0\n",
        "    found = False\n",
        "    tooBig = False\n",
        "\n",
        "    while ix < len(orderedList) and not found and not tooBig:\n",
        "      if orderedList[ix] == number:\n",
        "        found = True\n",
        "      else:\n",
        "        if orderedList[ix] > number:\n",
        "          tooBig = True\n",
        "        else:\n",
        "          ix += 1\n",
        "    return found\n",
        "\n",
        "  def binarySearch(self, orderedList, number):\n",
        "    firstPointer = 0\n",
        "    lastPointer = len(orderedList) - 1\n",
        "\n",
        "    found = False\n",
        "\n",
        "    while firstPointer <= lastPointer and not found:\n",
        "\n",
        "      midPoint = (firstPointer + lastPointer) // 2\n",
        "\n",
        "      if orderedList[midPoint] == number:\n",
        "        found = True\n",
        "      else:\n",
        "        if number < orderedList[midPoint]:\n",
        "          lastPointer = midPoint - 1\n",
        "        else:\n",
        "          firstPointer = midPoint + 1\n",
        "\n",
        "    return found"
      ]
    },
    {
      "cell_type": "code",
      "source": [
        "search = SearchingAlgorithms()"
      ],
      "metadata": {
        "id": "f6QXp90h_SvZ"
      },
      "execution_count": 2,
      "outputs": []
    },
    {
      "cell_type": "code",
      "source": [
        "myList = [5, 13, 7, 19, 29, 41, 23, 0, 17]"
      ],
      "metadata": {
        "id": "RGDchkiC_flJ"
      },
      "execution_count": 3,
      "outputs": []
    },
    {
      "cell_type": "code",
      "source": [
        "search.sequentialSearchUnordered(myList, 19)"
      ],
      "metadata": {
        "colab": {
          "base_uri": "https://localhost:8080/"
        },
        "id": "WL5XeXa3_3AM",
        "outputId": "010ec931-a0f3-425a-c469-335b5b36eb1c"
      },
      "execution_count": 4,
      "outputs": [
        {
          "output_type": "execute_result",
          "data": {
            "text/plain": [
              "True"
            ]
          },
          "metadata": {},
          "execution_count": 4
        }
      ]
    },
    {
      "cell_type": "code",
      "source": [
        "search.sequentialSearchUnordered(myList, 11)"
      ],
      "metadata": {
        "colab": {
          "base_uri": "https://localhost:8080/"
        },
        "id": "7gYIQ67c__le",
        "outputId": "e67697cf-8fe2-4cc3-fb47-30a5c8cf9d36"
      },
      "execution_count": 5,
      "outputs": [
        {
          "output_type": "execute_result",
          "data": {
            "text/plain": [
              "False"
            ]
          },
          "metadata": {},
          "execution_count": 5
        }
      ]
    },
    {
      "cell_type": "code",
      "source": [
        "myList.sort()"
      ],
      "metadata": {
        "id": "1yWDlHipA5WI"
      },
      "execution_count": 6,
      "outputs": []
    },
    {
      "cell_type": "code",
      "source": [
        "myList"
      ],
      "metadata": {
        "colab": {
          "base_uri": "https://localhost:8080/"
        },
        "id": "xH8jVeRqBAa-",
        "outputId": "00c77a68-e832-4e29-9ba6-381cbd42cbc6"
      },
      "execution_count": 7,
      "outputs": [
        {
          "output_type": "execute_result",
          "data": {
            "text/plain": [
              "[0, 5, 7, 13, 17, 19, 23, 29, 41]"
            ]
          },
          "metadata": {},
          "execution_count": 7
        }
      ]
    },
    {
      "cell_type": "code",
      "source": [
        "search.sequentialSearchOrdered(myList, 19)"
      ],
      "metadata": {
        "colab": {
          "base_uri": "https://localhost:8080/"
        },
        "id": "3WQO3xg6BIa0",
        "outputId": "448ca007-8861-4141-c2d2-ba2d8b2e9eb7"
      },
      "execution_count": 8,
      "outputs": [
        {
          "output_type": "execute_result",
          "data": {
            "text/plain": [
              "True"
            ]
          },
          "metadata": {},
          "execution_count": 8
        }
      ]
    },
    {
      "cell_type": "code",
      "source": [
        "search.sequentialSearchOrdered(myList, 11)"
      ],
      "metadata": {
        "colab": {
          "base_uri": "https://localhost:8080/"
        },
        "id": "ZH6ZGOyuBSMI",
        "outputId": "21f80fe0-c609-4723-a4a6-d05121a6ea45"
      },
      "execution_count": 9,
      "outputs": [
        {
          "output_type": "execute_result",
          "data": {
            "text/plain": [
              "False"
            ]
          },
          "metadata": {},
          "execution_count": 9
        }
      ]
    },
    {
      "cell_type": "code",
      "source": [
        "search.binarySearch(myList, 19)"
      ],
      "metadata": {
        "colab": {
          "base_uri": "https://localhost:8080/"
        },
        "id": "5TFguXOWDQc8",
        "outputId": "1f80727c-e481-4196-c51e-a1bb13a37034"
      },
      "execution_count": 10,
      "outputs": [
        {
          "output_type": "execute_result",
          "data": {
            "text/plain": [
              "True"
            ]
          },
          "metadata": {},
          "execution_count": 10
        }
      ]
    },
    {
      "cell_type": "code",
      "source": [
        "search.binarySearch(myList, 11)"
      ],
      "metadata": {
        "colab": {
          "base_uri": "https://localhost:8080/"
        },
        "id": "6PSzNYkRDfAI",
        "outputId": "8335b4e8-0b02-432e-f885-719be211905f"
      },
      "execution_count": 11,
      "outputs": [
        {
          "output_type": "execute_result",
          "data": {
            "text/plain": [
              "False"
            ]
          },
          "metadata": {},
          "execution_count": 11
        }
      ]
    }
  ]
}