{
  "nbformat": 4,
  "nbformat_minor": 0,
  "metadata": {
    "colab": {
      "provenance": []
    },
    "kernelspec": {
      "name": "python3",
      "display_name": "Python 3"
    },
    "language_info": {
      "name": "python"
    }
  },
  "cells": [
    {
      "cell_type": "code",
      "execution_count": 1,
      "metadata": {
        "colab": {
          "base_uri": "https://localhost:8080/",
          "height": 35
        },
        "id": "qG6zKqpcgaUT",
        "outputId": "b1aca2b2-f485-4256-92b0-a4e325bab4e0"
      },
      "outputs": [
        {
          "output_type": "execute_result",
          "data": {
            "text/plain": [
              "'\\nQueue()\\n\\nenqueue(element)\\ndequeue()\\nsize()\\nisEmpty()\\n\\n'"
            ],
            "application/vnd.google.colaboratory.intrinsic+json": {
              "type": "string"
            }
          },
          "metadata": {},
          "execution_count": 1
        }
      ],
      "source": [
        "'''\n",
        "Queue()\n",
        "\n",
        "enqueue(element)\n",
        "dequeue()\n",
        "size()\n",
        "isEmpty()\n",
        "\n",
        "'''"
      ]
    },
    {
      "cell_type": "code",
      "source": [
        "class Queue():\n",
        "\n",
        "  def __init__(self):\n",
        "    self.elements = []\n",
        "\n",
        "  def isEmpty(self):\n",
        "    return self.elements == []\n",
        "\n",
        "  def enqueue(self, element):\n",
        "    self.elements.insert(0, element)\n",
        "  \n",
        "  def dequeue(self):\n",
        "    return self.elements.pop()\n",
        "\n",
        "  def size(self):\n",
        "    return len(self.elements)\n",
        "\n"
      ],
      "metadata": {
        "id": "vnbafvgHxmGu"
      },
      "execution_count": 2,
      "outputs": []
    },
    {
      "cell_type": "code",
      "source": [
        "myQueue = Queue()"
      ],
      "metadata": {
        "id": "1I4GTSe70P7U"
      },
      "execution_count": 3,
      "outputs": []
    },
    {
      "cell_type": "code",
      "source": [
        "myQueue.isEmpty()"
      ],
      "metadata": {
        "colab": {
          "base_uri": "https://localhost:8080/"
        },
        "id": "p0Tymd880wKN",
        "outputId": "3aa69433-6d1a-430b-ab74-499a707a0b7f"
      },
      "execution_count": 4,
      "outputs": [
        {
          "output_type": "execute_result",
          "data": {
            "text/plain": [
              "True"
            ]
          },
          "metadata": {},
          "execution_count": 4
        }
      ]
    },
    {
      "cell_type": "code",
      "source": [
        "myQueue.enqueue(3)\n",
        "myQueue.enqueue(5)\n",
        "myQueue.enqueue(7)"
      ],
      "metadata": {
        "id": "XdPGFHcr01sz"
      },
      "execution_count": 5,
      "outputs": []
    },
    {
      "cell_type": "code",
      "source": [
        "myQueue"
      ],
      "metadata": {
        "colab": {
          "base_uri": "https://localhost:8080/"
        },
        "id": "hbnnxYdP1C-p",
        "outputId": "7e1e911d-f518-4339-85b3-b40490cbd377"
      },
      "execution_count": 6,
      "outputs": [
        {
          "output_type": "execute_result",
          "data": {
            "text/plain": [
              "<__main__.Queue at 0x7fa221d3e0e0>"
            ]
          },
          "metadata": {},
          "execution_count": 6
        }
      ]
    },
    {
      "cell_type": "code",
      "source": [
        "myQueue.dequeue()"
      ],
      "metadata": {
        "colab": {
          "base_uri": "https://localhost:8080/"
        },
        "id": "zT8U2SAh1VC9",
        "outputId": "31e068db-5823-42e4-fb2d-a53d86ebe818"
      },
      "execution_count": 7,
      "outputs": [
        {
          "output_type": "execute_result",
          "data": {
            "text/plain": [
              "3"
            ]
          },
          "metadata": {},
          "execution_count": 7
        }
      ]
    },
    {
      "cell_type": "code",
      "source": [
        "myQueue.size()"
      ],
      "metadata": {
        "colab": {
          "base_uri": "https://localhost:8080/"
        },
        "id": "Zcf9Af7514Ez",
        "outputId": "ccdecece-6713-4f1a-bfde-6f470e8c0171"
      },
      "execution_count": 8,
      "outputs": [
        {
          "output_type": "execute_result",
          "data": {
            "text/plain": [
              "2"
            ]
          },
          "metadata": {},
          "execution_count": 8
        }
      ]
    },
    {
      "cell_type": "code",
      "source": [
        "myQueue.dequeue()"
      ],
      "metadata": {
        "colab": {
          "base_uri": "https://localhost:8080/"
        },
        "id": "w1kf1KJD2AEF",
        "outputId": "b52cc91b-ab0c-433e-c4a2-6af753b8b207"
      },
      "execution_count": 9,
      "outputs": [
        {
          "output_type": "execute_result",
          "data": {
            "text/plain": [
              "5"
            ]
          },
          "metadata": {},
          "execution_count": 9
        }
      ]
    },
    {
      "cell_type": "code",
      "source": [
        "myQueue.dequeue()"
      ],
      "metadata": {
        "colab": {
          "base_uri": "https://localhost:8080/"
        },
        "id": "ku1-In4N2Azu",
        "outputId": "15912a4c-62d8-47c5-b701-1364bdcd3449"
      },
      "execution_count": 10,
      "outputs": [
        {
          "output_type": "execute_result",
          "data": {
            "text/plain": [
              "7"
            ]
          },
          "metadata": {},
          "execution_count": 10
        }
      ]
    },
    {
      "cell_type": "code",
      "source": [
        "myQueue.isEmpty()"
      ],
      "metadata": {
        "colab": {
          "base_uri": "https://localhost:8080/"
        },
        "id": "lfc2Uz542E9f",
        "outputId": "c0fb6775-66ec-4277-997a-530211c2e164"
      },
      "execution_count": 11,
      "outputs": [
        {
          "output_type": "execute_result",
          "data": {
            "text/plain": [
              "True"
            ]
          },
          "metadata": {},
          "execution_count": 11
        }
      ]
    }
  ]
}