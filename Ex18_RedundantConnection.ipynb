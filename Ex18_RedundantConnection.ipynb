{
  "nbformat": 4,
  "nbformat_minor": 0,
  "metadata": {
    "colab": {
      "provenance": []
    },
    "kernelspec": {
      "name": "python3",
      "display_name": "Python 3"
    },
    "language_info": {
      "name": "python"
    }
  },
  "cells": [
    {
      "cell_type": "markdown",
      "source": [
        "In this problem, a tree is an **undirected graph** that is connected and has no cycles.\n",
        "\n",
        "You are given a graph that started as a tree with `n` nodes labeled from `1` to `n`, with one additional edge added. The added edge has two **different** vertices chosen from `1` to `n`, and was not an edge that already existed. The graph is represented as an array `edges` of length `n` where `edges[i] = [ai, bi]` indicates that there is an edge between nodes `ai` and `bi` in the graph.\n",
        "\n",
        "Return *an edge that can be removed so that the resulting graph is a tree of* `n` *nodes*. If there are multiple answers, return the answer that occurs last in the input.\n",
        "\n",
        "**Example 1:**\n",
        "\n",
        "<img src=\"https://assets.leetcode.com/uploads/2021/05/02/reduntant1-1-graph.jpg\">\n",
        "\n",
        "Input: `edges = [[1,2],[1,3],[2,3]]`\n",
        "\n",
        "Output: `[2,3]`\n",
        "\n",
        "**Example 2:**\n",
        "\n",
        "<img src=\"https://assets.leetcode.com/uploads/2021/05/02/reduntant1-2-graph.jpg\">\n",
        "\n",
        "Input: `edges = [[1,2],[2,3],[3,4],[1,4],[1,5]]`\n",
        "\n",
        "Output: `[1,4]`\n",
        "\n",
        "**Constraints:**\n",
        "\n",
        "*   `n == edges.length`\n",
        "*   `3 <= n <= 1000`\n",
        "*   `edges[i].length == 2`\n",
        "*   `1 <= ai < bi <= edges.length`\n",
        "*   `ai != bi`\n",
        "*   There are no repeated edges.\n",
        "*   The given graph is connected."
      ],
      "metadata": {
        "id": "HagnoMHTiOuR"
      }
    },
    {
      "cell_type": "code",
      "source": [
        "edges = [[1,2], [1,3], [2,3]]\n",
        "\n",
        "parents = []\n",
        "\n",
        "for i in range(len(edges) + 1):\n",
        "  parents.append(i)"
      ],
      "metadata": {
        "id": "_lqc4kxvkcdu"
      },
      "execution_count": 1,
      "outputs": []
    },
    {
      "cell_type": "code",
      "source": [
        "parents"
      ],
      "metadata": {
        "colab": {
          "base_uri": "https://localhost:8080/"
        },
        "id": "U_Sfmm0i7yIQ",
        "outputId": "4fd9bb96-8520-44d6-b962-279d135b87d3"
      },
      "execution_count": 2,
      "outputs": [
        {
          "output_type": "execute_result",
          "data": {
            "text/plain": [
              "[0, 1, 2, 3]"
            ]
          },
          "metadata": {},
          "execution_count": 2
        }
      ]
    },
    {
      "cell_type": "code",
      "source": [
        "class Solution():\n",
        "  def findRedundantConnection(self, edges):\n",
        "    parents = []\n",
        "\n",
        "    for i in range(len(edges) + 1):\n",
        "      parents.append(i)\n",
        "\n",
        "    ranks = [1] * (len(edges) + 1)\n",
        "\n",
        "    def find(n):\n",
        "      parent = parents[n]\n",
        "      while parent != parents[parent]:\n",
        "        # path compression\n",
        "        parents[parent] = parents[parents[parent]]\n",
        "        parent = parents[parent]\n",
        "      return parent\n",
        "\n",
        "    def union(n1, n2):\n",
        "      parent1, parent2 = find(n1), find(n2)\n",
        "\n",
        "      if parent1 == parent2:\n",
        "        #connected\n",
        "        return False\n",
        "\n",
        "      if ranks[parent1] > ranks[parent2]:\n",
        "        parents[parent2] = parent1\n",
        "        ranks[parent1] += ranks[parent2]\n",
        "      else:\n",
        "        parents[parent1] = parent2\n",
        "        ranks[parent2] += ranks[parent1]\n",
        "\n",
        "      return True\n",
        "\n",
        "    for n1, n2 in edges:\n",
        "      if not union(n1, n2):\n",
        "        return [n1, n2]"
      ],
      "metadata": {
        "id": "Hx_jkoXg74dx"
      },
      "execution_count": 3,
      "outputs": []
    },
    {
      "cell_type": "code",
      "source": [
        "sol = Solution()"
      ],
      "metadata": {
        "id": "TtRQYjgQjzTh"
      },
      "execution_count": 4,
      "outputs": []
    },
    {
      "cell_type": "code",
      "source": [
        "sol.findRedundantConnection([[1,2],[1,3],[2,3]])"
      ],
      "metadata": {
        "colab": {
          "base_uri": "https://localhost:8080/"
        },
        "id": "HEOU74UDj3PO",
        "outputId": "2bfa61a2-5c75-4234-da6a-598d4944e475"
      },
      "execution_count": 5,
      "outputs": [
        {
          "output_type": "execute_result",
          "data": {
            "text/plain": [
              "[2, 3]"
            ]
          },
          "metadata": {},
          "execution_count": 5
        }
      ]
    },
    {
      "cell_type": "code",
      "source": [
        "sol.findRedundantConnection([[1,2],[2,3],[3,4],[1,4],[1,5]])"
      ],
      "metadata": {
        "colab": {
          "base_uri": "https://localhost:8080/"
        },
        "id": "kak_WCFZkCie",
        "outputId": "a7250a82-ba25-4d86-96d4-3c4551b99de4"
      },
      "execution_count": 6,
      "outputs": [
        {
          "output_type": "execute_result",
          "data": {
            "text/plain": [
              "[1, 4]"
            ]
          },
          "metadata": {},
          "execution_count": 6
        }
      ]
    }
  ]
}