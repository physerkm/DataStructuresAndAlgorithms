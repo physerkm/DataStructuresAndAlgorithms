{
  "nbformat": 4,
  "nbformat_minor": 0,
  "metadata": {
    "colab": {
      "provenance": []
    },
    "kernelspec": {
      "name": "python3",
      "display_name": "Python 3"
    },
    "language_info": {
      "name": "python"
    }
  },
  "cells": [
    {
      "cell_type": "markdown",
      "source": [
        "There is a rectangular brick wall in front of you with `n` rows of bricks. The $i^{th}$ row has some number of bricks each of the same height (i.e., one unit) but they can be of different widths. The total width of each row is the same.\n",
        "\n",
        "Draw a vertical line from the top to the bottom and cross the least bricks. If your line goes through the edge of a brick, then the brick is not considered as crossed. You cannot draw a line just along one of the two vertical edges of the wall, in which case the line will obviously cross no bricks.\n",
        "\n",
        "Given the 2D array `wall` that contains the information about the wall, return *the minimum number of crossed bricks after drawing such a vertical line*.\n",
        "\n",
        "**Example 1:**\n",
        "\n",
        "<img src=\"https://assets.leetcode.com/uploads/2021/04/24/cutwall-grid.jpg\">\n",
        "\n",
        "Input: `wall = [[1,2,2,1],[3,1,2],[1,3,2],[2,4],[3,1,2],[1,3,1,1]]`\n",
        "\n",
        "Output: `2`\n",
        "\n",
        "**Example 2:**\n",
        "\n",
        "Input: `wall = [[1],[1],[1]]`\n",
        "\n",
        "Output: `3`\n",
        "\n",
        "**Constraints:**\n",
        "\n",
        "*   `n == wall.length`\n",
        "*   1 <= n <= $10^{4}$\n",
        "*   1 <= wall[i].length <= $10^{4}$\n",
        "*   1 <= sum(wall[i].length) <= $2 * 10^{4}$\n",
        "*   `sum(wall[i])` is the same for each row `i`.\n",
        "*   1 <= wall[i][j] <= $2^{31} -1$"
      ],
      "metadata": {
        "id": "RSYRX5qIITf2"
      }
    },
    {
      "cell_type": "code",
      "source": [
        "from typing import List"
      ],
      "metadata": {
        "id": "Z4y5jFW5WE61"
      },
      "execution_count": 1,
      "outputs": []
    },
    {
      "cell_type": "code",
      "source": [
        "class Solution:\n",
        "    def leastBricks(self, wall: List[List[int]]) -> int:\n",
        "        myHashMap = {0:0} # key: ix , value -> number of gaps\n",
        "\n",
        "        for row in wall:\n",
        "            gapCount = 0\n",
        "            for brick in row[:-1]: #not including the far right index\n",
        "                gapCount += brick\n",
        "                myHashMap[gapCount] = 1 + myHashMap.get(gapCount,0)\n",
        "\n",
        "        maximumGapNumber = max(myHashMap.values())\n",
        "        rowNumber = len(wall)\n",
        "        return rowNumber - maximumGapNumber"
      ],
      "metadata": {
        "id": "ocTl_gtlKJ24"
      },
      "execution_count": 2,
      "outputs": []
    }
  ]
}