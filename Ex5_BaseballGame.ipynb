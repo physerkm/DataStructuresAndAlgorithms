{
  "nbformat": 4,
  "nbformat_minor": 0,
  "metadata": {
    "colab": {
      "provenance": []
    },
    "kernelspec": {
      "name": "python3",
      "display_name": "Python 3"
    },
    "language_info": {
      "name": "python"
    }
  },
  "cells": [
    {
      "cell_type": "markdown",
      "source": [
        "You are keeping the scores for a baseball game with strange rules. At the beginning of the game, you start with an empty record.\n",
        "\n",
        "You are given a list of strings `operations`, where `operations[i]` is the $i^{th}$ operation you must apply to the record and is one of the following:\n",
        "\n",
        "*   An integer `x`.\n",
        "    *   Record a new score of `x`.\n",
        "*   `'+'`.\n",
        "    *   Record a new score that is the sum of the previous two scores.\n",
        "*   `'D'`.\n",
        "    *   Record a new score that is the double of the previous score.\n",
        "*   `'C'`.\n",
        "    *   Invalidate the previous score, removing it from the record.\n",
        "\n",
        "Return *the sum of all the scores on the record after applying all the operations*.\n",
        "\n",
        "The test cases are generated such that the answer and all intermediate calculations fit in a **32-bit** integer and that all operations are valid. \n",
        "\n",
        "**Example 1:**\n",
        "\n",
        "```\n",
        "Input: ops = [\"5\",\"2\",\"C\",\"D\",\"+\"]\n",
        "Output: 30\n",
        "Explanation:\n",
        "\"5\" - Add 5 to the record, record is now [5].\n",
        "\"2\" - Add 2 to the record, record is now [5, 2].\n",
        "\"C\" - Invalidate and remove the previous score, record is now [5].\n",
        "\"D\" - Add 2 * 5 = 10 to the record, record is now [5, 10].\n",
        "\"+\" - Add 5 + 10 = 15 to the record, record is now [5, 10, 15].\n",
        "The total sum is 5 + 10 + 15 = 30.\n",
        "```\n",
        "\n",
        "**Example 2:**\n",
        "```\n",
        "Input: ops = [\"5\",\"-2\",\"4\",\"C\",\"D\",\"9\",\"+\",\"+\"]\n",
        "Output: 27\n",
        "Explanation:\n",
        "\"5\" - Add 5 to the record, record is now [5].\n",
        "\"-2\" - Add -2 to the record, record is now [5, -2].\n",
        "\"4\" - Add 4 to the record, record is now [5, -2, 4].\n",
        "\"C\" - Invalidate and remove the previous score, record is now [5, -2].\n",
        "\"D\" - Add 2 * -2 = -4 to the record, record is now [5, -2, -4].\n",
        "\"9\" - Add 9 to the record, record is now [5, -2, -4, 9].\n",
        "\"+\" - Add -4 + 9 = 5 to the record, record is now [5, -2, -4, 9, 5].\n",
        "\"+\" - Add 9 + 5 = 14 to the record, record is now [5, -2, -4, 9, 5, 14].\n",
        "The total sum is 5 + -2 + -4 + 9 + 5 + 14 = 27.\n",
        "```\n",
        "**Example 3:**\n",
        "```\n",
        "Input: ops = [\"1\",\"C\"]\n",
        "Output: 0\n",
        "Explanation:\n",
        "\"1\" - Add 1 to the record, record is now [1].\n",
        "\"C\" - Invalidate and remove the previous score, record is now [].\n",
        "Since the record is empty, the total sum is 0.\n",
        "```\n",
        "\n",
        "**Constraints:**\n",
        "\n",
        "*   `1 <= operations.length <= 1000`\n",
        "*   `operations[i]` is `\"C\"`, `\"D\"`, `\"+\"`, or a string representing an integer in the range $[-3 * 10^{4}, 3 * 10^{4}]$\n",
        "*   For operation `\"+\"`, there will always be at least two previous scores on the record.\n",
        "*   For operations `\"C\"` and `\"D\"`, there will always be at least one previous score on the record."
      ],
      "metadata": {
        "id": "7hVZ7FFWUmy8"
      }
    },
    {
      "cell_type": "code",
      "source": [
        "from typing import List"
      ],
      "metadata": {
        "id": "2ndVSHBXg-oh"
      },
      "execution_count": 1,
      "outputs": []
    },
    {
      "cell_type": "code",
      "source": [
        "ops1 = [\"5\",\"2\",\"C\",\"D\",\"+\"]\n",
        "ops2 = [\"5\",\"-2\",\"4\",\"C\",\"D\",\"9\",\"+\",\"+\"]\n",
        "ops3 = [\"1\",\"C\"]"
      ],
      "metadata": {
        "id": "VRS3S0BAXSru"
      },
      "execution_count": 2,
      "outputs": []
    },
    {
      "cell_type": "code",
      "source": [
        "class Solution:\n",
        "  \n",
        "  def calPoints(self, ops: List[str]) -> int:\n",
        "    \n",
        "    # This is O(N) since we are iterating through\n",
        "    # Since we are using LIFO, stack is great.\n",
        "    # But we can implement it with list as in this example.\n",
        "    \n",
        "    stack = []\n",
        "    \n",
        "    for op in ops:\n",
        "      if op == \"+\":\n",
        "        stack.append(stack[-1] + stack[-2])\n",
        "      elif op == \"C\":\n",
        "        stack.pop()\n",
        "      elif op == \"D\":\n",
        "        stack.append(2 * stack[-1])\n",
        "      else:\n",
        "        stack.append(int(op))\n",
        "        \n",
        "    return sum(stack)"
      ],
      "metadata": {
        "id": "_aJzzfoCcg6W"
      },
      "execution_count": 3,
      "outputs": []
    },
    {
      "cell_type": "code",
      "source": [
        "s = Solution()"
      ],
      "metadata": {
        "id": "cKRExcRXeoSE"
      },
      "execution_count": 4,
      "outputs": []
    },
    {
      "cell_type": "code",
      "source": [
        "s.calPoints(ops1)"
      ],
      "metadata": {
        "colab": {
          "base_uri": "https://localhost:8080/"
        },
        "id": "rI7IArkqjzRJ",
        "outputId": "b94c19b2-8dc3-47c7-ae60-42f8a57b8630"
      },
      "execution_count": 5,
      "outputs": [
        {
          "output_type": "execute_result",
          "data": {
            "text/plain": [
              "30"
            ]
          },
          "metadata": {},
          "execution_count": 5
        }
      ]
    },
    {
      "cell_type": "code",
      "source": [
        "s.calPoints(ops2)"
      ],
      "metadata": {
        "colab": {
          "base_uri": "https://localhost:8080/"
        },
        "id": "3EcU7Huzj0su",
        "outputId": "ca2b297f-32f7-4f7b-fe39-134143735fd1"
      },
      "execution_count": 6,
      "outputs": [
        {
          "output_type": "execute_result",
          "data": {
            "text/plain": [
              "27"
            ]
          },
          "metadata": {},
          "execution_count": 6
        }
      ]
    },
    {
      "cell_type": "code",
      "source": [
        "s.calPoints(ops3)"
      ],
      "metadata": {
        "colab": {
          "base_uri": "https://localhost:8080/"
        },
        "id": "dI7ty2Ltj1Wj",
        "outputId": "88cab519-1a37-4281-a20e-136bfeba1e78"
      },
      "execution_count": 7,
      "outputs": [
        {
          "output_type": "execute_result",
          "data": {
            "text/plain": [
              "0"
            ]
          },
          "metadata": {},
          "execution_count": 7
        }
      ]
    }
  ]
}